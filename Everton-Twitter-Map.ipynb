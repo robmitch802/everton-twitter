{
 "cells": [
  {
   "cell_type": "code",
   "execution_count": 9,
   "id": "ddb9e52e",
   "metadata": {},
   "outputs": [
    {
     "data": {
      "text/plain": [
       "True"
      ]
     },
     "execution_count": 9,
     "metadata": {},
     "output_type": "execute_result"
    }
   ],
   "source": [
    "#Load necessary packages\n",
    "import tweepy\n",
    "import folium\n",
    "import geopy\n",
    "import os\n",
    "from geopy.exc import GeocoderTimedOut\n",
    "from geopy.geocoders import Nominatim\n",
    "\n",
    "\n",
    "from dotenv import load_dotenv\n",
    "load_dotenv()"
   ]
  },
  {
   "cell_type": "code",
   "execution_count": 2,
   "id": "1adf5463",
   "metadata": {},
   "outputs": [],
   "source": [
    "#set authentication variables\n",
    "access_token_eve = os.environ.get('access_token')\n",
    "access_secret_eve = os.environ.get('access_secret')\n",
    "consumer_key_eve = os.environ.get('api_key')\n",
    "consumer_secret_eve = os.environ.get('api_secret')"
   ]
  },
  {
   "cell_type": "code",
   "execution_count": 3,
   "id": "2ecd9a41",
   "metadata": {},
   "outputs": [
    {
     "name": "stdout",
     "output_type": "stream",
     "text": [
      "16810473-U802OXUMDjouQwt9Hq2N9odNrnUkfU00a1sRXgeVk\n"
     ]
    }
   ],
   "source": [
    "print(access_token_eve)"
   ]
  },
  {
   "cell_type": "code",
   "execution_count": 6,
   "id": "2d7d4c27",
   "metadata": {},
   "outputs": [
    {
     "name": "stdout",
     "output_type": "stream",
     "text": [
      "0\n"
     ]
    }
   ],
   "source": [
    "#load the Twitter API, create def for use\n",
    "def get_twitter_api():\n",
    "    # personal details\n",
    "    consumer_key = consumer_key_eve\n",
    "    consumer_secret = consumer_secret_eve\n",
    "    access_token = access_token_eve\n",
    "    access_token_secret = access_secret_eve\n",
    "    \n",
    "    # authentication of consumer key and secret\n",
    "    auth = tweepy.OAuthHandler(consumer_key, consumer_secret)\n",
    "    \n",
    "    # authentication of access token and secret\n",
    "    auth.set_access_token(access_token, access_token_secret)\n",
    "    api = tweepy.API(auth, wait_on_rate_limit=True)\n",
    "    \n",
    "    return api\n",
    "\n",
    "#set up search for coordinates and/or location of the tweets\n",
    "def get_twitter_location(search):\n",
    "    api = get_twitter_api()\n",
    "    count = 0\n",
    "    for tweet in tweepy.Cursor(api.search_tweets, q=search).items(500):\n",
    "        if hasattr(tweet, 'coordinates') and tweet.coordinates is not None:\n",
    "            count += 1\n",
    "            print(\"Coordinates\", tweet.coordinates)\n",
    "        if hasattr(tweet, 'location') and tweet.location is not None:\n",
    "            count += 1\n",
    "            print(\"Coordinates\", tweet.location)\n",
    "    print(count)\n",
    "get_twitter_location(\"#Everton\")"
   ]
  },
  {
   "cell_type": "code",
   "execution_count": 12,
   "id": "9012b8d7",
   "metadata": {},
   "outputs": [],
   "source": [
    "#set search for location of the Twitter user\n",
    "def get_tweets(search):\n",
    "    api = get_twitter_api()\n",
    "    location_data = []\n",
    "    for tweet in tweepy.Cursor(api.search_tweets, q=search).items(500):\n",
    "        if hasattr(tweet, 'user') and hasattr(tweet.user, 'screen_name') and hasattr(tweet.user, 'location'):\n",
    "            if tweet.user.location:\n",
    "                location_data.append((tweet.user.screen_name, tweet.user.location))\n",
    "    return location_data"
   ]
  },
  {
   "cell_type": "code",
   "execution_count": 14,
   "id": "cc4b79bc",
   "metadata": {},
   "outputs": [
    {
     "name": "stdout",
     "output_type": "stream",
     "text": [
      "[('ThreeLionsThen', 'Bristol'), ('GangsterVeal', 'Liverpool'), ('fan_banter', 'United Kingdom'), ('TGoalpost', 'Malta'), ('bluekippercom', 'Liverpool, England'), ('Fanscapes1', 'Newbury, England'), ('CopperLebarante', 'Kumasi'), ('news9_sports', 'Noida'), ('LuvEvertonForum', 'Contact'), ('AndrewC_1999', 'Cork, Ireland'), ('News18Sports', 'India'), ('LuvEvertonForum', 'Contact'), ('matagonzalez86', 'San Miguel'), ('SaintDomingo78', 'Goodison '), ('Mimmi_Rirri', 'Lagos, Nigeria'), ('ShotongoalTH', 'Bangkok, Thailand'), ('CevascoCompleto', 'Reñaca Alto.'), ('PasiondeCerro', 'Viña del Mar'), ('INoticias_CL', 'Chile'), ('MaisOuiMaisOui_', 'Liverpool home of EVERTON FC'), ('richa_2as', 'عالم آخر '), ('LeePazzini', 'Liverpool'), ('Shanil7K', 'South East, England'), ('A_P_Ryan', 'Ireland'), ('LeePazzini', 'Liverpool'), ('nismoneil', 'Hereford, England'), ('gighozter', 'Indonesia'), ('andypeahead', 'bangor northern Ireland'), ('Jaygee_58', 'Edinburgh'), ('fan_banter', 'United Kingdom'), ('RoperCarl', 'Liverpool 8'), ('MerloViajaOk', 'Parque San Martín, Merlo.'), ('antoniaefc66', 'Liverpool'), ('stevie89940908', 'England, United Kingdom'), ('MDStadiumAuth', 'Baltimore, MD'), ('stevie89940908', 'England, United Kingdom'), ('justinwiddop', 'UK'), ('John_Ghader', 'Northwich'), ('OnlyOneTiley', 'Portsmouth'), ('Ctsthtat01', 'Keep ya nose out -nosey cunt'), ('spectrosport1', 'Senegal'), ('Elle_EFC1878', 'Liverpool, England'), ('Giffendulum', 'Essex'), ('LuvEvertonForum', 'Contact'), ('LuvEvertonForum', 'Contact'), ('LuvEvertonForum', 'Contact'), ('GregOK', 'North West, England'), ('sir_Khaay', 'Accra, Ghana'), ('Trankilovsky_95', 'Florencio Varela, Argentina'), ('LuvEvertonForum', 'Contact'), ('ETI_Everton', 'Liverpool, England'), ('tmaximo86', 'Jardim Imbariê, Duque de Caxia'), ('ETI_Everton', 'Liverpool, England'), ('ShirtKingSOE', 'The World'), ('ETI_Everton', 'Liverpool, England'), ('LUFCbot', 'Wetherby'), ('fan_banter', 'United Kingdom'), ('DONK7289', 'Hereford, England'), ('jberry79', 'Walsall & Swansea'), ('ETI_Everton', 'Liverpool, England'), ('LoveEvertonBlog', 'Join us as a member HERE'), ('ste_coll5', 'Saughall, England'), ('LuvEvertonForum', 'Contact'), ('BrianHo46831773', 'Wirral'), ('billahibarkley', 'North West, England'), ('ThePeoplesGroup', 'merseyside'), ('LoveEvertonBlog', 'Join us as a member HERE'), ('ETI_Everton', 'Liverpool, England'), ('LuvEvertonForum', 'Contact'), ('OntarioForSale', 'Ontario, Canada'), ('_mrzeke', 'Shomolu, Lagos, Nigeria'), ('GangsterVeal', 'Liverpool'), ('PorticoToffee', 'England'), ('LuvEvertonForum', 'Contact'), ('Master2020The', 'Mount Ararat'), ('bullyefc', 'Blackburn, England'), ('JoeScottUK1', ' U.K'), ('PMC_92', 'Runcorn, England'), ('GeorgeWaweru', 'Nairobi'), ('Mark_J_70', 'Padiham, Lancashire, U.K.'), ('sriabh', 'Bombay, India'), ('chriswatson187', 'Exiled Blue living in Glasgow '), ('kevan_craft', 'Runcorn, Cheshire. UK'), ('JamesPearceLFC', 'Liverpool'), ('talking_toffees', 'Liverpool, England'), ('fatwap73', 'Old Swan'), ('Matt_S_1982', 'Royston Vasey'), ('mvhd_sk99', 'Abuja, Nigeria'), ('1878UTFTCOYB', 'England, United Kingdom'), ('gezfitzgez', 'Liverpool'), ('TheAthleticUK', 'UK'), ('JailedGed', 'Allerton, Tuebrook'), ('GregOK', 'North West, England'), ('LD5679', 'Newcastle West Baby! '), ('Baines3', 'City of Everton'), ('Baines3', 'City of Everton'), ('Pookie_Dizzle', 'PNW'), ('Boyer316New', 'Nowhere'), ('DonBalon', 'España'), ('UHTPodcast', 'Liverpool, England'), ('UHTPodcast', 'Liverpool, England'), ('DeadCat__Bounce', 'London'), ('Xensomi', 'Sweden'), ('fan_banter', 'United Kingdom'), ('UHTPodcast', 'Liverpool, England'), ('1TOFFEE_J', 'Liverpool, England'), ('Maria20131967', 'European, FBPE'), ('LeePazzini', 'Liverpool'), ('south_friends', 'North West, England'), ('SamanthColeman', 'New York'), ('UHTPodcast', 'Liverpool, England'), ('BrettaAdlen', 'Liverpool'), ('AlfiesSquad', 'Liverpool'), ('fan_banter', 'United Kingdom'), ('just_doodlin86', 'Goodison park'), ('EFCArt', 'Liverpool, England'), ('Matt_S_1982', 'Royston Vasey'), ('efcjacobz', 'United States'), ('1TOFFEE_J', 'Liverpool, England'), ('Baines3', 'City of Everton'), ('UHTPodcast', 'Liverpool, England'), ('ChelseaDaily22', 'United Kingdom'), ('SB200493', 'England, United Kingdom'), ('nighthawkgeoff', 'Hoylake, Wirral, U.K.'), ('FormbyJules', 'Formby, England'), ('Smarty_OKB', 'Your mums bed. '), ('TheGoldenKop', 'Liverpool, England'), ('MartinMC018', 'Córdoba'), ('BusterEriksson', 'Stockholm, Sverige'), ('FormbyJules', 'Formby, England'), ('PaulPaul49', 'Liverpool UK'), ('GangsterVeal', 'Liverpool'), ('fan_banter', 'United Kingdom'), ('AlwaysBlue7', 'England, United Kingdom'), ('1TOFFEE_J', 'Liverpool, England'), ('fiona_latham1', 'Liverpool, England'), ('ETI_Everton', 'Liverpool, England'), ('ETI_Everton', 'Liverpool, England'), ('edgyt10', 'seacombe'), ('WorldFootballi', 'contact@worldfootballindex.com'), ('mrmrmaxy', 'UK'), ('LuvEvertonForum', 'Contact'), ('MightyBluesYT', 'Goodison Park'), ('ETI_Everton', 'Liverpool, England'), ('Banter_Bets', 'Bookies'), ('primeChels', 'Stamford Bridge'), ('TheGoldenKop', 'Liverpool, England'), ('Enioxare', 'Lagos'), ('fan_banter', 'United Kingdom'), ('ETI_Everton', 'Liverpool, England'), ('klixba', 'Bosnia-Herzegovina'), ('ByronKoay', 'Washington, D.C.'), ('UHTPodcast', 'Liverpool, England'), ('gifts_football', 'Birmingham, West Midlands, UK'), ('FormbyJules', 'Formby, England'), ('GangsterVeal', 'Liverpool'), ('anfield_eye', 'Liverpool, England'), ('RoperCarl', 'Liverpool 8'), ('gifts_football', 'Birmingham, West Midlands, UK'), ('brightwhite1001', 'Essex'), ('extrasoccernet', '📧 contact@extrasoccer.net'), ('1990sFootball', 'United Kingdom'), ('URFOOTBALLUK', 'United Kingdom'), ('Retrofonecases', 'United Kingdom'), ('RetroUltras', 'United Kingdom'), ('retrofootballPC', 'United Kingdom'), ('fanboy82', 'Nottingham, England'), ('FormbyJules', 'Formby, England'), ('ToffeeArt', 'Liverpool, England'), ('FormbyJules', 'Formby, England'), ('TheGoldenKop', 'Liverpool, England'), ('LucColigny', 'On Tjapukai land / UK raised'), ('RyanSoccerAA', 'Washington, DC'), ('KOMerchants', 'England, United Kingdom'), ('KitsOnHangers', 'Newquay, England'), ('DesignPhillips_', 'Liverpool, England'), ('Jobs4football', 'North West, England'), ('7ettedecoppe', 'Roma, Italia'), ('FormbyJules', 'Formby, England'), ('TheKitmanUK', 'Bristol, England'), ('LeedsUnited_MAD', 'Leeds, West Yorkshire'), ('UgandaEverton', 'Uganda'), ('fan_banter', 'United Kingdom'), ('SimonCBondar', 'Seacombe, England'), ('nunovalinhas', 'Lisbon, Portugal'), ('nunovalinhas', 'Lisbon, Portugal'), ('ItsSigned', 'County Durham'), ('afcbpodcast', 'hello@afcbpodcast.com or DM us'), ('kmalone1981', 'Liverpool / Cleveland'), ('DomeLord', 'Cornwall'), ('BodenJoseph', 'Liverpool, England'), ('cathytefc', 'Liverpool, England'), ('FormbyJules', 'Formby, England'), ('Fanscapes1', 'Newbury, England'), ('Nik95247423', 'Metaverse'), ('Lifebursacom16', 'Bursa, Türkiye'), ('inside_psv', 'Eindhoven, Nederland'), ('TheGoldenKop', 'Liverpool, England'), ('LUFCbot', 'Wetherby'), ('fan_banter', 'United Kingdom'), ('EvertonHeritage', 'Liverpool, England'), ('EvertonBlueArmy', 'Goodison Park'), ('steve040167', 'Gloucester'), ('HelenquLD', 'Hatfield, Herts'), ('FWagsKids', 'Thailand'), ('Adel_8212', 'الرياض '), ('Blue1stu', 'Gloucester '), ('Mark53779049', 'Dingle'), ('StephenJLee1987', 'England, United Kingdom'), ('LUFCbot', 'Wetherby'), ('mufcfanbabe', 'Manchester'), ('fan_banter', 'United Kingdom'), ('bluekippercom', 'Liverpool, England'), ('rami78772', 'London'), ('wgwinder1', 'Vanvouver, Canada'), ('DILIPKUMARNC', 'Delaware, USA'), ('finneyivan1963', 'England, United Kingdom'), ('big_cooc', 'بلوغرانا'), ('abo_shahd2244', 'المملكة العربية السعودية'), ('y_alsahabi', 'الرياض, المملكة العربية السعود'), ('woodentek', 'Harrow, London'), ('Hassanalh2030', 'المملكة العربية السعودية'), ('Talleres_Soy', 'Bº Jardín Espinosa, Córdoba'), ('eltonarabia77', 'Maceió, Brasil'), ('mayamonterra', 'Carretera Austral y Santiago'), ('BmoreToffees', 'Baltimore, MD'), ('AaronStannardd', 'Park City, UT'), ('MartinMC018', 'Córdoba'), ('davidpaszucki', 'Argentina, Ciudad de Cordoba'), ('Talleresdcba', 'Córdoba, Argentina'), ('CapitanAndresGR', '📩 andres@capitanandresgr.com'), ('AndresGonzalezR', 'Viña del Mar y Roma '), ('MartinMC018', 'Córdoba'), ('mufcfanbabe', 'Manchester'), ('SteveEFCHouston', 'Houston, TX'), ('LaurenceMylesL1', 'Liverpool, England'), ('ELFCFans', 'Merseyside'), ('ELFCFans', 'Merseyside'), ('ETI_Everton', 'Liverpool, England'), ('ETI_Everton', 'Liverpool, England'), ('ETI_Everton', 'Liverpool, England'), ('durkeee', 'Twin Cities'), ('ETI_Everton', 'Liverpool, England'), ('ETI_Everton', 'Liverpool, England'), ('ETI_Everton', 'Liverpool, England'), ('Matt_S_1982', 'Royston Vasey'), ('mnufcnews', 'Minnesota, USA'), ('Ecclesbean', 'Home is where your rump rests'), ('GangsterVeal', 'Liverpool'), ('LUFCbot', 'Wetherby'), ('mufcfanbabe', 'Manchester'), ('fan_banter', 'United Kingdom'), ('kate_bateson', 'Queensland, Australia'), ('EfcPhil1983', 'Liverpool, England'), ('jonesfcpodcast', 'United Kingdom'), ('kevan_craft', 'Runcorn, Cheshire. UK'), ('reddevilnacion', 'Manchester'), ('oskarutd', 'Ísland'), ('ChrisBaker67', ' England'), ('humdrum2012', 'Norwich, England'), ('mrmrmaxy', 'UK'), ('LUFCbot', 'Wetherby'), ('fan_banter', 'United Kingdom'), ('FAWSLFT', 'Darlington, England'), ('1878UTFTCOYB', 'England, United Kingdom'), ('bluekippercom', 'Liverpool, England'), ('Evertonhub', 'Goodison Park'), ('CPFCArgentina', 'Argentina'), ('ZoeatShine', 'North West of England, UK'), ('FAWSLFT', 'Darlington, England'), ('prestoy', 'Trondheim, Norway'), ('BlueAce1878', 'Parts Unknown'), ('fan_banter', 'United Kingdom'), ('John_B58', 'Born in Everton, Lancashire'), ('vaughanieno10', 'Merseyside England'), ('HowardParr3', 'Merseyside'), ('pjwhitfield', 'Morpeth, England'), ('SLunnon1', 'Anthropocene'), ('scouseblue48', 'Liverpool, England'), ('Matt_S_1982', 'Royston Vasey'), ('BodenJoseph', 'Liverpool, England'), ('JeffWallner', 'Cincinnati, OH'), ('ToffeeTVEFC', 'Goodison Park'), ('ETI_Everton', 'Liverpool, England'), ('ETI_Everton', 'Liverpool, England'), ('BigMan7289', 'the void'), ('LoveEvertonBlog', 'Join us as a member HERE'), ('yaw_natty', 'Akoasi-Nkawkaw'), ('LuvEvertonForum', 'Contact'), ('MMc1878', 'Liverpool, England'), ('GaryBarnes1878', 'scotland, shotts'), ('GangsterVeal', 'Liverpool'), ('LUFCbot', 'Wetherby'), ('fan_banter', 'United Kingdom'), ('FAWSLFT', 'Darlington, England'), ('leew456', 'crosby liverpool'), ('CFCCritic_', 'Parental advisory. '), ('richardm32', 'Saint Helens, England'), ('scousehouse06', 'Liverpool, England'), ('BrettSearcy', 'Houston, TX (USA)'), ('JFatality_x', 'Liverpool'), ('ToffeesDaily_', 'Goodison Park'), ('DITCHY1', 'LIVERPOOL  ENGLAND'), ('jimmytheblue88', 'United Kingdom'), ('Gre9orypeck09', 'Home, England'), ('ChedEfc', 'Heswall, England'), ('rowleydan', 'location location location'), ('oscarsstreamshd', 'uk'), ('efc_cain', 'Liverpool, England'), ('UHTPodcast', 'Liverpool, England'), ('maraudersmap', 'England'), ('fan_banter', 'United Kingdom'), ('90min_us', 'USA'), ('Boyer316New', 'Nowhere'), ('mrmrmaxy', 'UK'), ('carbonsaveruk', 'North Yorkshire'), ('RossAftbl', 'Glasgow/St Albans'), ('JFatality_x', 'Liverpool'), ('ToffeesDaily_', 'Goodison Park'), ('martinburns1878', 'Dublin City, l4 4EL'), ('rowleydan', 'location location location'), ('UHTPodcast', 'Liverpool, England'), ('Riley87Js', 'Liverpool'), ('AbranCanchaCRE', 'Guayaquil, Ecuador'), ('countcaspargh', 'London & Exeter, mainly.'), ('ScouseIrish1', 'Liverpool'), ('thekelvincelis', 'Reno, NV'), ('Cresatelitalecu', 'Guayaquil, Ecuador'), ('LeePazzini', 'Liverpool'), ('WillSherrington', 'Chester / Burnley / Bath'), ('KenRiozzi', 'Rufford West Lancashire '), ('CopScouse', 'Liverpool, England'), ('Pro_crastinator', 'Liverpool'), ('Jonefc007', 'Liverpool, England'), ('KarolinaMahoney', 'Wirral, UK'), ('DavidHarroEFC', 'England, United Kingdom'), ('JFatality_x', 'Liverpool'), ('ToffeesDaily_', 'Goodison Park'), ('fan_banter', 'United Kingdom'), ('nickgartland', 'Liverpool, England'), ('InfoSecSherpa', 'Philadelphia, PA'), ('ColSafc86', '🔴⚪️'), ('Football90s_', 'England, United Kingdom')]\n"
     ]
    }
   ],
   "source": [
    "print(location_data)"
   ]
  },
  {
   "cell_type": "code",
   "execution_count": 13,
   "id": "1a7dc853",
   "metadata": {},
   "outputs": [
    {
     "ename": "GeocoderUnavailable",
     "evalue": "HTTPSConnectionPool(host='nominatim.openstreetmap.org', port=443): Max retries exceeded with url: /search?q=Liverpool&format=json&limit=1 (Caused by ConnectTimeoutError(<urllib3.connection.HTTPSConnection object at 0x0000017FAE123D60>, 'Connection to nominatim.openstreetmap.org timed out. (connect timeout=1)'))",
     "output_type": "error",
     "traceback": [
      "\u001b[1;31m---------------------------------------------------------------------------\u001b[0m",
      "\u001b[1;31mTimeoutError\u001b[0m                              Traceback (most recent call last)",
      "File \u001b[1;32m~\\anaconda3\\envs\\geospatial\\lib\\site-packages\\urllib3\\connection.py:174\u001b[0m, in \u001b[0;36mHTTPConnection._new_conn\u001b[1;34m(self)\u001b[0m\n\u001b[0;32m    173\u001b[0m \u001b[38;5;28;01mtry\u001b[39;00m:\n\u001b[1;32m--> 174\u001b[0m     conn \u001b[38;5;241m=\u001b[39m connection\u001b[38;5;241m.\u001b[39mcreate_connection(\n\u001b[0;32m    175\u001b[0m         (\u001b[38;5;28mself\u001b[39m\u001b[38;5;241m.\u001b[39m_dns_host, \u001b[38;5;28mself\u001b[39m\u001b[38;5;241m.\u001b[39mport), \u001b[38;5;28mself\u001b[39m\u001b[38;5;241m.\u001b[39mtimeout, \u001b[38;5;241m*\u001b[39m\u001b[38;5;241m*\u001b[39mextra_kw\n\u001b[0;32m    176\u001b[0m     )\n\u001b[0;32m    178\u001b[0m \u001b[38;5;28;01mexcept\u001b[39;00m SocketTimeout:\n",
      "File \u001b[1;32m~\\anaconda3\\envs\\geospatial\\lib\\site-packages\\urllib3\\util\\connection.py:95\u001b[0m, in \u001b[0;36mcreate_connection\u001b[1;34m(address, timeout, source_address, socket_options)\u001b[0m\n\u001b[0;32m     94\u001b[0m \u001b[38;5;28;01mif\u001b[39;00m err \u001b[38;5;129;01mis\u001b[39;00m \u001b[38;5;129;01mnot\u001b[39;00m \u001b[38;5;28;01mNone\u001b[39;00m:\n\u001b[1;32m---> 95\u001b[0m     \u001b[38;5;28;01mraise\u001b[39;00m err\n\u001b[0;32m     97\u001b[0m \u001b[38;5;28;01mraise\u001b[39;00m socket\u001b[38;5;241m.\u001b[39merror(\u001b[38;5;124m\"\u001b[39m\u001b[38;5;124mgetaddrinfo returns an empty list\u001b[39m\u001b[38;5;124m\"\u001b[39m)\n",
      "File \u001b[1;32m~\\anaconda3\\envs\\geospatial\\lib\\site-packages\\urllib3\\util\\connection.py:85\u001b[0m, in \u001b[0;36mcreate_connection\u001b[1;34m(address, timeout, source_address, socket_options)\u001b[0m\n\u001b[0;32m     84\u001b[0m     sock\u001b[38;5;241m.\u001b[39mbind(source_address)\n\u001b[1;32m---> 85\u001b[0m \u001b[43msock\u001b[49m\u001b[38;5;241;43m.\u001b[39;49m\u001b[43mconnect\u001b[49m\u001b[43m(\u001b[49m\u001b[43msa\u001b[49m\u001b[43m)\u001b[49m\n\u001b[0;32m     86\u001b[0m \u001b[38;5;28;01mreturn\u001b[39;00m sock\n",
      "\u001b[1;31mTimeoutError\u001b[0m: timed out",
      "\nDuring handling of the above exception, another exception occurred:\n",
      "\u001b[1;31mConnectTimeoutError\u001b[0m                       Traceback (most recent call last)",
      "File \u001b[1;32m~\\anaconda3\\envs\\geospatial\\lib\\site-packages\\urllib3\\connectionpool.py:703\u001b[0m, in \u001b[0;36mHTTPConnectionPool.urlopen\u001b[1;34m(self, method, url, body, headers, retries, redirect, assert_same_host, timeout, pool_timeout, release_conn, chunked, body_pos, **response_kw)\u001b[0m\n\u001b[0;32m    702\u001b[0m \u001b[38;5;66;03m# Make the request on the httplib connection object.\u001b[39;00m\n\u001b[1;32m--> 703\u001b[0m httplib_response \u001b[38;5;241m=\u001b[39m \u001b[38;5;28;43mself\u001b[39;49m\u001b[38;5;241;43m.\u001b[39;49m\u001b[43m_make_request\u001b[49m\u001b[43m(\u001b[49m\n\u001b[0;32m    704\u001b[0m \u001b[43m    \u001b[49m\u001b[43mconn\u001b[49m\u001b[43m,\u001b[49m\n\u001b[0;32m    705\u001b[0m \u001b[43m    \u001b[49m\u001b[43mmethod\u001b[49m\u001b[43m,\u001b[49m\n\u001b[0;32m    706\u001b[0m \u001b[43m    \u001b[49m\u001b[43murl\u001b[49m\u001b[43m,\u001b[49m\n\u001b[0;32m    707\u001b[0m \u001b[43m    \u001b[49m\u001b[43mtimeout\u001b[49m\u001b[38;5;241;43m=\u001b[39;49m\u001b[43mtimeout_obj\u001b[49m\u001b[43m,\u001b[49m\n\u001b[0;32m    708\u001b[0m \u001b[43m    \u001b[49m\u001b[43mbody\u001b[49m\u001b[38;5;241;43m=\u001b[39;49m\u001b[43mbody\u001b[49m\u001b[43m,\u001b[49m\n\u001b[0;32m    709\u001b[0m \u001b[43m    \u001b[49m\u001b[43mheaders\u001b[49m\u001b[38;5;241;43m=\u001b[39;49m\u001b[43mheaders\u001b[49m\u001b[43m,\u001b[49m\n\u001b[0;32m    710\u001b[0m \u001b[43m    \u001b[49m\u001b[43mchunked\u001b[49m\u001b[38;5;241;43m=\u001b[39;49m\u001b[43mchunked\u001b[49m\u001b[43m,\u001b[49m\n\u001b[0;32m    711\u001b[0m \u001b[43m\u001b[49m\u001b[43m)\u001b[49m\n\u001b[0;32m    713\u001b[0m \u001b[38;5;66;03m# If we're going to release the connection in ``finally:``, then\u001b[39;00m\n\u001b[0;32m    714\u001b[0m \u001b[38;5;66;03m# the response doesn't need to know about the connection. Otherwise\u001b[39;00m\n\u001b[0;32m    715\u001b[0m \u001b[38;5;66;03m# it will also try to release it and we'll have a double-release\u001b[39;00m\n\u001b[0;32m    716\u001b[0m \u001b[38;5;66;03m# mess.\u001b[39;00m\n",
      "File \u001b[1;32m~\\anaconda3\\envs\\geospatial\\lib\\site-packages\\urllib3\\connectionpool.py:386\u001b[0m, in \u001b[0;36mHTTPConnectionPool._make_request\u001b[1;34m(self, conn, method, url, timeout, chunked, **httplib_request_kw)\u001b[0m\n\u001b[0;32m    385\u001b[0m \u001b[38;5;28;01mtry\u001b[39;00m:\n\u001b[1;32m--> 386\u001b[0m     \u001b[38;5;28;43mself\u001b[39;49m\u001b[38;5;241;43m.\u001b[39;49m\u001b[43m_validate_conn\u001b[49m\u001b[43m(\u001b[49m\u001b[43mconn\u001b[49m\u001b[43m)\u001b[49m\n\u001b[0;32m    387\u001b[0m \u001b[38;5;28;01mexcept\u001b[39;00m (SocketTimeout, BaseSSLError) \u001b[38;5;28;01mas\u001b[39;00m e:\n\u001b[0;32m    388\u001b[0m     \u001b[38;5;66;03m# Py2 raises this as a BaseSSLError, Py3 raises it as socket timeout.\u001b[39;00m\n",
      "File \u001b[1;32m~\\anaconda3\\envs\\geospatial\\lib\\site-packages\\urllib3\\connectionpool.py:1040\u001b[0m, in \u001b[0;36mHTTPSConnectionPool._validate_conn\u001b[1;34m(self, conn)\u001b[0m\n\u001b[0;32m   1039\u001b[0m \u001b[38;5;28;01mif\u001b[39;00m \u001b[38;5;129;01mnot\u001b[39;00m \u001b[38;5;28mgetattr\u001b[39m(conn, \u001b[38;5;124m\"\u001b[39m\u001b[38;5;124msock\u001b[39m\u001b[38;5;124m\"\u001b[39m, \u001b[38;5;28;01mNone\u001b[39;00m):  \u001b[38;5;66;03m# AppEngine might not have  `.sock`\u001b[39;00m\n\u001b[1;32m-> 1040\u001b[0m     \u001b[43mconn\u001b[49m\u001b[38;5;241;43m.\u001b[39;49m\u001b[43mconnect\u001b[49m\u001b[43m(\u001b[49m\u001b[43m)\u001b[49m\n\u001b[0;32m   1042\u001b[0m \u001b[38;5;28;01mif\u001b[39;00m \u001b[38;5;129;01mnot\u001b[39;00m conn\u001b[38;5;241m.\u001b[39mis_verified:\n",
      "File \u001b[1;32m~\\anaconda3\\envs\\geospatial\\lib\\site-packages\\urllib3\\connection.py:358\u001b[0m, in \u001b[0;36mHTTPSConnection.connect\u001b[1;34m(self)\u001b[0m\n\u001b[0;32m    356\u001b[0m \u001b[38;5;28;01mdef\u001b[39;00m \u001b[38;5;21mconnect\u001b[39m(\u001b[38;5;28mself\u001b[39m):\n\u001b[0;32m    357\u001b[0m     \u001b[38;5;66;03m# Add certificate verification\u001b[39;00m\n\u001b[1;32m--> 358\u001b[0m     \u001b[38;5;28mself\u001b[39m\u001b[38;5;241m.\u001b[39msock \u001b[38;5;241m=\u001b[39m conn \u001b[38;5;241m=\u001b[39m \u001b[38;5;28;43mself\u001b[39;49m\u001b[38;5;241;43m.\u001b[39;49m\u001b[43m_new_conn\u001b[49m\u001b[43m(\u001b[49m\u001b[43m)\u001b[49m\n\u001b[0;32m    359\u001b[0m     hostname \u001b[38;5;241m=\u001b[39m \u001b[38;5;28mself\u001b[39m\u001b[38;5;241m.\u001b[39mhost\n",
      "File \u001b[1;32m~\\anaconda3\\envs\\geospatial\\lib\\site-packages\\urllib3\\connection.py:179\u001b[0m, in \u001b[0;36mHTTPConnection._new_conn\u001b[1;34m(self)\u001b[0m\n\u001b[0;32m    178\u001b[0m \u001b[38;5;28;01mexcept\u001b[39;00m SocketTimeout:\n\u001b[1;32m--> 179\u001b[0m     \u001b[38;5;28;01mraise\u001b[39;00m ConnectTimeoutError(\n\u001b[0;32m    180\u001b[0m         \u001b[38;5;28mself\u001b[39m,\n\u001b[0;32m    181\u001b[0m         \u001b[38;5;124m\"\u001b[39m\u001b[38;5;124mConnection to \u001b[39m\u001b[38;5;132;01m%s\u001b[39;00m\u001b[38;5;124m timed out. (connect timeout=\u001b[39m\u001b[38;5;132;01m%s\u001b[39;00m\u001b[38;5;124m)\u001b[39m\u001b[38;5;124m\"\u001b[39m\n\u001b[0;32m    182\u001b[0m         \u001b[38;5;241m%\u001b[39m (\u001b[38;5;28mself\u001b[39m\u001b[38;5;241m.\u001b[39mhost, \u001b[38;5;28mself\u001b[39m\u001b[38;5;241m.\u001b[39mtimeout),\n\u001b[0;32m    183\u001b[0m     )\n\u001b[0;32m    185\u001b[0m \u001b[38;5;28;01mexcept\u001b[39;00m SocketError \u001b[38;5;28;01mas\u001b[39;00m e:\n",
      "\u001b[1;31mConnectTimeoutError\u001b[0m: (<urllib3.connection.HTTPSConnection object at 0x0000017FAE123D60>, 'Connection to nominatim.openstreetmap.org timed out. (connect timeout=1)')",
      "\nDuring handling of the above exception, another exception occurred:\n",
      "\u001b[1;31mMaxRetryError\u001b[0m                             Traceback (most recent call last)",
      "File \u001b[1;32m~\\anaconda3\\envs\\geospatial\\lib\\site-packages\\requests\\adapters.py:489\u001b[0m, in \u001b[0;36mHTTPAdapter.send\u001b[1;34m(self, request, stream, timeout, verify, cert, proxies)\u001b[0m\n\u001b[0;32m    488\u001b[0m \u001b[38;5;28;01mif\u001b[39;00m \u001b[38;5;129;01mnot\u001b[39;00m chunked:\n\u001b[1;32m--> 489\u001b[0m     resp \u001b[38;5;241m=\u001b[39m \u001b[43mconn\u001b[49m\u001b[38;5;241;43m.\u001b[39;49m\u001b[43murlopen\u001b[49m\u001b[43m(\u001b[49m\n\u001b[0;32m    490\u001b[0m \u001b[43m        \u001b[49m\u001b[43mmethod\u001b[49m\u001b[38;5;241;43m=\u001b[39;49m\u001b[43mrequest\u001b[49m\u001b[38;5;241;43m.\u001b[39;49m\u001b[43mmethod\u001b[49m\u001b[43m,\u001b[49m\n\u001b[0;32m    491\u001b[0m \u001b[43m        \u001b[49m\u001b[43murl\u001b[49m\u001b[38;5;241;43m=\u001b[39;49m\u001b[43murl\u001b[49m\u001b[43m,\u001b[49m\n\u001b[0;32m    492\u001b[0m \u001b[43m        \u001b[49m\u001b[43mbody\u001b[49m\u001b[38;5;241;43m=\u001b[39;49m\u001b[43mrequest\u001b[49m\u001b[38;5;241;43m.\u001b[39;49m\u001b[43mbody\u001b[49m\u001b[43m,\u001b[49m\n\u001b[0;32m    493\u001b[0m \u001b[43m        \u001b[49m\u001b[43mheaders\u001b[49m\u001b[38;5;241;43m=\u001b[39;49m\u001b[43mrequest\u001b[49m\u001b[38;5;241;43m.\u001b[39;49m\u001b[43mheaders\u001b[49m\u001b[43m,\u001b[49m\n\u001b[0;32m    494\u001b[0m \u001b[43m        \u001b[49m\u001b[43mredirect\u001b[49m\u001b[38;5;241;43m=\u001b[39;49m\u001b[38;5;28;43;01mFalse\u001b[39;49;00m\u001b[43m,\u001b[49m\n\u001b[0;32m    495\u001b[0m \u001b[43m        \u001b[49m\u001b[43massert_same_host\u001b[49m\u001b[38;5;241;43m=\u001b[39;49m\u001b[38;5;28;43;01mFalse\u001b[39;49;00m\u001b[43m,\u001b[49m\n\u001b[0;32m    496\u001b[0m \u001b[43m        \u001b[49m\u001b[43mpreload_content\u001b[49m\u001b[38;5;241;43m=\u001b[39;49m\u001b[38;5;28;43;01mFalse\u001b[39;49;00m\u001b[43m,\u001b[49m\n\u001b[0;32m    497\u001b[0m \u001b[43m        \u001b[49m\u001b[43mdecode_content\u001b[49m\u001b[38;5;241;43m=\u001b[39;49m\u001b[38;5;28;43;01mFalse\u001b[39;49;00m\u001b[43m,\u001b[49m\n\u001b[0;32m    498\u001b[0m \u001b[43m        \u001b[49m\u001b[43mretries\u001b[49m\u001b[38;5;241;43m=\u001b[39;49m\u001b[38;5;28;43mself\u001b[39;49m\u001b[38;5;241;43m.\u001b[39;49m\u001b[43mmax_retries\u001b[49m\u001b[43m,\u001b[49m\n\u001b[0;32m    499\u001b[0m \u001b[43m        \u001b[49m\u001b[43mtimeout\u001b[49m\u001b[38;5;241;43m=\u001b[39;49m\u001b[43mtimeout\u001b[49m\u001b[43m,\u001b[49m\n\u001b[0;32m    500\u001b[0m \u001b[43m    \u001b[49m\u001b[43m)\u001b[49m\n\u001b[0;32m    502\u001b[0m \u001b[38;5;66;03m# Send the request.\u001b[39;00m\n\u001b[0;32m    503\u001b[0m \u001b[38;5;28;01melse\u001b[39;00m:\n",
      "File \u001b[1;32m~\\anaconda3\\envs\\geospatial\\lib\\site-packages\\urllib3\\connectionpool.py:813\u001b[0m, in \u001b[0;36mHTTPConnectionPool.urlopen\u001b[1;34m(self, method, url, body, headers, retries, redirect, assert_same_host, timeout, pool_timeout, release_conn, chunked, body_pos, **response_kw)\u001b[0m\n\u001b[0;32m    810\u001b[0m     log\u001b[38;5;241m.\u001b[39mwarning(\n\u001b[0;32m    811\u001b[0m         \u001b[38;5;124m\"\u001b[39m\u001b[38;5;124mRetrying (\u001b[39m\u001b[38;5;132;01m%r\u001b[39;00m\u001b[38;5;124m) after connection broken by \u001b[39m\u001b[38;5;124m'\u001b[39m\u001b[38;5;132;01m%r\u001b[39;00m\u001b[38;5;124m'\u001b[39m\u001b[38;5;124m: \u001b[39m\u001b[38;5;132;01m%s\u001b[39;00m\u001b[38;5;124m\"\u001b[39m, retries, err, url\n\u001b[0;32m    812\u001b[0m     )\n\u001b[1;32m--> 813\u001b[0m     \u001b[38;5;28;01mreturn\u001b[39;00m \u001b[38;5;28mself\u001b[39m\u001b[38;5;241m.\u001b[39murlopen(\n\u001b[0;32m    814\u001b[0m         method,\n\u001b[0;32m    815\u001b[0m         url,\n\u001b[0;32m    816\u001b[0m         body,\n\u001b[0;32m    817\u001b[0m         headers,\n\u001b[0;32m    818\u001b[0m         retries,\n\u001b[0;32m    819\u001b[0m         redirect,\n\u001b[0;32m    820\u001b[0m         assert_same_host,\n\u001b[0;32m    821\u001b[0m         timeout\u001b[38;5;241m=\u001b[39mtimeout,\n\u001b[0;32m    822\u001b[0m         pool_timeout\u001b[38;5;241m=\u001b[39mpool_timeout,\n\u001b[0;32m    823\u001b[0m         release_conn\u001b[38;5;241m=\u001b[39mrelease_conn,\n\u001b[0;32m    824\u001b[0m         chunked\u001b[38;5;241m=\u001b[39mchunked,\n\u001b[0;32m    825\u001b[0m         body_pos\u001b[38;5;241m=\u001b[39mbody_pos,\n\u001b[0;32m    826\u001b[0m         \u001b[38;5;241m*\u001b[39m\u001b[38;5;241m*\u001b[39mresponse_kw\n\u001b[0;32m    827\u001b[0m     )\n\u001b[0;32m    829\u001b[0m \u001b[38;5;66;03m# Handle redirect?\u001b[39;00m\n",
      "File \u001b[1;32m~\\anaconda3\\envs\\geospatial\\lib\\site-packages\\urllib3\\connectionpool.py:813\u001b[0m, in \u001b[0;36mHTTPConnectionPool.urlopen\u001b[1;34m(self, method, url, body, headers, retries, redirect, assert_same_host, timeout, pool_timeout, release_conn, chunked, body_pos, **response_kw)\u001b[0m\n\u001b[0;32m    810\u001b[0m     log\u001b[38;5;241m.\u001b[39mwarning(\n\u001b[0;32m    811\u001b[0m         \u001b[38;5;124m\"\u001b[39m\u001b[38;5;124mRetrying (\u001b[39m\u001b[38;5;132;01m%r\u001b[39;00m\u001b[38;5;124m) after connection broken by \u001b[39m\u001b[38;5;124m'\u001b[39m\u001b[38;5;132;01m%r\u001b[39;00m\u001b[38;5;124m'\u001b[39m\u001b[38;5;124m: \u001b[39m\u001b[38;5;132;01m%s\u001b[39;00m\u001b[38;5;124m\"\u001b[39m, retries, err, url\n\u001b[0;32m    812\u001b[0m     )\n\u001b[1;32m--> 813\u001b[0m     \u001b[38;5;28;01mreturn\u001b[39;00m \u001b[38;5;28mself\u001b[39m\u001b[38;5;241m.\u001b[39murlopen(\n\u001b[0;32m    814\u001b[0m         method,\n\u001b[0;32m    815\u001b[0m         url,\n\u001b[0;32m    816\u001b[0m         body,\n\u001b[0;32m    817\u001b[0m         headers,\n\u001b[0;32m    818\u001b[0m         retries,\n\u001b[0;32m    819\u001b[0m         redirect,\n\u001b[0;32m    820\u001b[0m         assert_same_host,\n\u001b[0;32m    821\u001b[0m         timeout\u001b[38;5;241m=\u001b[39mtimeout,\n\u001b[0;32m    822\u001b[0m         pool_timeout\u001b[38;5;241m=\u001b[39mpool_timeout,\n\u001b[0;32m    823\u001b[0m         release_conn\u001b[38;5;241m=\u001b[39mrelease_conn,\n\u001b[0;32m    824\u001b[0m         chunked\u001b[38;5;241m=\u001b[39mchunked,\n\u001b[0;32m    825\u001b[0m         body_pos\u001b[38;5;241m=\u001b[39mbody_pos,\n\u001b[0;32m    826\u001b[0m         \u001b[38;5;241m*\u001b[39m\u001b[38;5;241m*\u001b[39mresponse_kw\n\u001b[0;32m    827\u001b[0m     )\n\u001b[0;32m    829\u001b[0m \u001b[38;5;66;03m# Handle redirect?\u001b[39;00m\n",
      "File \u001b[1;32m~\\anaconda3\\envs\\geospatial\\lib\\site-packages\\urllib3\\connectionpool.py:785\u001b[0m, in \u001b[0;36mHTTPConnectionPool.urlopen\u001b[1;34m(self, method, url, body, headers, retries, redirect, assert_same_host, timeout, pool_timeout, release_conn, chunked, body_pos, **response_kw)\u001b[0m\n\u001b[0;32m    783\u001b[0m     e \u001b[38;5;241m=\u001b[39m ProtocolError(\u001b[38;5;124m\"\u001b[39m\u001b[38;5;124mConnection aborted.\u001b[39m\u001b[38;5;124m\"\u001b[39m, e)\n\u001b[1;32m--> 785\u001b[0m retries \u001b[38;5;241m=\u001b[39m \u001b[43mretries\u001b[49m\u001b[38;5;241;43m.\u001b[39;49m\u001b[43mincrement\u001b[49m\u001b[43m(\u001b[49m\n\u001b[0;32m    786\u001b[0m \u001b[43m    \u001b[49m\u001b[43mmethod\u001b[49m\u001b[43m,\u001b[49m\u001b[43m \u001b[49m\u001b[43murl\u001b[49m\u001b[43m,\u001b[49m\u001b[43m \u001b[49m\u001b[43merror\u001b[49m\u001b[38;5;241;43m=\u001b[39;49m\u001b[43me\u001b[49m\u001b[43m,\u001b[49m\u001b[43m \u001b[49m\u001b[43m_pool\u001b[49m\u001b[38;5;241;43m=\u001b[39;49m\u001b[38;5;28;43mself\u001b[39;49m\u001b[43m,\u001b[49m\u001b[43m \u001b[49m\u001b[43m_stacktrace\u001b[49m\u001b[38;5;241;43m=\u001b[39;49m\u001b[43msys\u001b[49m\u001b[38;5;241;43m.\u001b[39;49m\u001b[43mexc_info\u001b[49m\u001b[43m(\u001b[49m\u001b[43m)\u001b[49m\u001b[43m[\u001b[49m\u001b[38;5;241;43m2\u001b[39;49m\u001b[43m]\u001b[49m\n\u001b[0;32m    787\u001b[0m \u001b[43m\u001b[49m\u001b[43m)\u001b[49m\n\u001b[0;32m    788\u001b[0m retries\u001b[38;5;241m.\u001b[39msleep()\n",
      "File \u001b[1;32m~\\anaconda3\\envs\\geospatial\\lib\\site-packages\\urllib3\\util\\retry.py:592\u001b[0m, in \u001b[0;36mRetry.increment\u001b[1;34m(self, method, url, response, error, _pool, _stacktrace)\u001b[0m\n\u001b[0;32m    591\u001b[0m \u001b[38;5;28;01mif\u001b[39;00m new_retry\u001b[38;5;241m.\u001b[39mis_exhausted():\n\u001b[1;32m--> 592\u001b[0m     \u001b[38;5;28;01mraise\u001b[39;00m MaxRetryError(_pool, url, error \u001b[38;5;129;01mor\u001b[39;00m ResponseError(cause))\n\u001b[0;32m    594\u001b[0m log\u001b[38;5;241m.\u001b[39mdebug(\u001b[38;5;124m\"\u001b[39m\u001b[38;5;124mIncremented Retry for (url=\u001b[39m\u001b[38;5;124m'\u001b[39m\u001b[38;5;132;01m%s\u001b[39;00m\u001b[38;5;124m'\u001b[39m\u001b[38;5;124m): \u001b[39m\u001b[38;5;132;01m%r\u001b[39;00m\u001b[38;5;124m\"\u001b[39m, url, new_retry)\n",
      "\u001b[1;31mMaxRetryError\u001b[0m: HTTPSConnectionPool(host='nominatim.openstreetmap.org', port=443): Max retries exceeded with url: /search?q=Liverpool&format=json&limit=1 (Caused by ConnectTimeoutError(<urllib3.connection.HTTPSConnection object at 0x0000017FAE123D60>, 'Connection to nominatim.openstreetmap.org timed out. (connect timeout=1)'))",
      "\nDuring handling of the above exception, another exception occurred:\n",
      "\u001b[1;31mConnectTimeout\u001b[0m                            Traceback (most recent call last)",
      "File \u001b[1;32m~\\anaconda3\\envs\\geospatial\\lib\\site-packages\\geopy\\adapters.py:448\u001b[0m, in \u001b[0;36mRequestsAdapter._request\u001b[1;34m(self, url, timeout, headers)\u001b[0m\n\u001b[0;32m    447\u001b[0m \u001b[38;5;28;01mtry\u001b[39;00m:\n\u001b[1;32m--> 448\u001b[0m     resp \u001b[38;5;241m=\u001b[39m \u001b[38;5;28;43mself\u001b[39;49m\u001b[38;5;241;43m.\u001b[39;49m\u001b[43msession\u001b[49m\u001b[38;5;241;43m.\u001b[39;49m\u001b[43mget\u001b[49m\u001b[43m(\u001b[49m\u001b[43murl\u001b[49m\u001b[43m,\u001b[49m\u001b[43m \u001b[49m\u001b[43mtimeout\u001b[49m\u001b[38;5;241;43m=\u001b[39;49m\u001b[43mtimeout\u001b[49m\u001b[43m,\u001b[49m\u001b[43m \u001b[49m\u001b[43mheaders\u001b[49m\u001b[38;5;241;43m=\u001b[39;49m\u001b[43mheaders\u001b[49m\u001b[43m)\u001b[49m\n\u001b[0;32m    449\u001b[0m \u001b[38;5;28;01mexcept\u001b[39;00m \u001b[38;5;167;01mException\u001b[39;00m \u001b[38;5;28;01mas\u001b[39;00m error:\n",
      "File \u001b[1;32m~\\anaconda3\\envs\\geospatial\\lib\\site-packages\\requests\\sessions.py:600\u001b[0m, in \u001b[0;36mSession.get\u001b[1;34m(self, url, **kwargs)\u001b[0m\n\u001b[0;32m    599\u001b[0m kwargs\u001b[38;5;241m.\u001b[39msetdefault(\u001b[38;5;124m\"\u001b[39m\u001b[38;5;124mallow_redirects\u001b[39m\u001b[38;5;124m\"\u001b[39m, \u001b[38;5;28;01mTrue\u001b[39;00m)\n\u001b[1;32m--> 600\u001b[0m \u001b[38;5;28;01mreturn\u001b[39;00m \u001b[38;5;28mself\u001b[39m\u001b[38;5;241m.\u001b[39mrequest(\u001b[38;5;124m\"\u001b[39m\u001b[38;5;124mGET\u001b[39m\u001b[38;5;124m\"\u001b[39m, url, \u001b[38;5;241m*\u001b[39m\u001b[38;5;241m*\u001b[39mkwargs)\n",
      "File \u001b[1;32m~\\anaconda3\\envs\\geospatial\\lib\\site-packages\\requests\\sessions.py:587\u001b[0m, in \u001b[0;36mSession.request\u001b[1;34m(self, method, url, params, data, headers, cookies, files, auth, timeout, allow_redirects, proxies, hooks, stream, verify, cert, json)\u001b[0m\n\u001b[0;32m    586\u001b[0m send_kwargs\u001b[38;5;241m.\u001b[39mupdate(settings)\n\u001b[1;32m--> 587\u001b[0m resp \u001b[38;5;241m=\u001b[39m \u001b[38;5;28mself\u001b[39m\u001b[38;5;241m.\u001b[39msend(prep, \u001b[38;5;241m*\u001b[39m\u001b[38;5;241m*\u001b[39msend_kwargs)\n\u001b[0;32m    589\u001b[0m \u001b[38;5;28;01mreturn\u001b[39;00m resp\n",
      "File \u001b[1;32m~\\anaconda3\\envs\\geospatial\\lib\\site-packages\\requests\\sessions.py:701\u001b[0m, in \u001b[0;36mSession.send\u001b[1;34m(self, request, **kwargs)\u001b[0m\n\u001b[0;32m    700\u001b[0m \u001b[38;5;66;03m# Send the request\u001b[39;00m\n\u001b[1;32m--> 701\u001b[0m r \u001b[38;5;241m=\u001b[39m adapter\u001b[38;5;241m.\u001b[39msend(request, \u001b[38;5;241m*\u001b[39m\u001b[38;5;241m*\u001b[39mkwargs)\n\u001b[0;32m    703\u001b[0m \u001b[38;5;66;03m# Total elapsed time of the request (approximately)\u001b[39;00m\n",
      "File \u001b[1;32m~\\anaconda3\\envs\\geospatial\\lib\\site-packages\\requests\\adapters.py:553\u001b[0m, in \u001b[0;36mHTTPAdapter.send\u001b[1;34m(self, request, stream, timeout, verify, cert, proxies)\u001b[0m\n\u001b[0;32m    552\u001b[0m     \u001b[38;5;28;01mif\u001b[39;00m \u001b[38;5;129;01mnot\u001b[39;00m \u001b[38;5;28misinstance\u001b[39m(e\u001b[38;5;241m.\u001b[39mreason, NewConnectionError):\n\u001b[1;32m--> 553\u001b[0m         \u001b[38;5;28;01mraise\u001b[39;00m ConnectTimeout(e, request\u001b[38;5;241m=\u001b[39mrequest)\n\u001b[0;32m    555\u001b[0m \u001b[38;5;28;01mif\u001b[39;00m \u001b[38;5;28misinstance\u001b[39m(e\u001b[38;5;241m.\u001b[39mreason, ResponseError):\n",
      "\u001b[1;31mConnectTimeout\u001b[0m: HTTPSConnectionPool(host='nominatim.openstreetmap.org', port=443): Max retries exceeded with url: /search?q=Liverpool&format=json&limit=1 (Caused by ConnectTimeoutError(<urllib3.connection.HTTPSConnection object at 0x0000017FAE123D60>, 'Connection to nominatim.openstreetmap.org timed out. (connect timeout=1)'))",
      "\nDuring handling of the above exception, another exception occurred:\n",
      "\u001b[1;31mGeocoderUnavailable\u001b[0m                       Traceback (most recent call last)",
      "Input \u001b[1;32mIn [13]\u001b[0m, in \u001b[0;36m<cell line: 12>\u001b[1;34m()\u001b[0m\n\u001b[0;32m     13\u001b[0m \u001b[38;5;28mmap\u001b[39m \u001b[38;5;241m=\u001b[39m folium\u001b[38;5;241m.\u001b[39mMap(location\u001b[38;5;241m=\u001b[39m[\u001b[38;5;241m0\u001b[39m, \u001b[38;5;241m0\u001b[39m], zoom_start\u001b[38;5;241m=\u001b[39m\u001b[38;5;241m2\u001b[39m)\n\u001b[0;32m     14\u001b[0m location_data \u001b[38;5;241m=\u001b[39m get_tweets(\u001b[38;5;124m\"\u001b[39m\u001b[38;5;124m#Everton\u001b[39m\u001b[38;5;124m\"\u001b[39m)\n\u001b[1;32m---> 15\u001b[0m \u001b[43mput_markers\u001b[49m\u001b[43m(\u001b[49m\u001b[38;5;28;43mmap\u001b[39;49m\u001b[43m,\u001b[49m\u001b[43m \u001b[49m\u001b[43mlocation_data\u001b[49m\u001b[43m)\u001b[49m\n\u001b[0;32m     16\u001b[0m \u001b[38;5;28mmap\u001b[39m\u001b[38;5;241m.\u001b[39msave(\u001b[38;5;124m\"\u001b[39m\u001b[38;5;124mindex.html\u001b[39m\u001b[38;5;124m\"\u001b[39m)\n",
      "Input \u001b[1;32mIn [13]\u001b[0m, in \u001b[0;36mput_markers\u001b[1;34m(map, data)\u001b[0m\n\u001b[0;32m      4\u001b[0m \u001b[38;5;28;01mif\u001b[39;00m location:\n\u001b[0;32m      5\u001b[0m     \u001b[38;5;28;01mtry\u001b[39;00m:\n\u001b[1;32m----> 6\u001b[0m         location \u001b[38;5;241m=\u001b[39m \u001b[43mgeo_locator\u001b[49m\u001b[38;5;241;43m.\u001b[39;49m\u001b[43mgeocode\u001b[49m\u001b[43m(\u001b[49m\u001b[43mlocation\u001b[49m\u001b[43m)\u001b[49m\n\u001b[0;32m      7\u001b[0m     \u001b[38;5;28;01mexcept\u001b[39;00m GeocoderTimedOut:\n\u001b[0;32m      8\u001b[0m         \u001b[38;5;28;01mcontinue\u001b[39;00m\n",
      "File \u001b[1;32m~\\anaconda3\\envs\\geospatial\\lib\\site-packages\\geopy\\geocoders\\nominatim.py:297\u001b[0m, in \u001b[0;36mNominatim.geocode\u001b[1;34m(self, query, exactly_one, timeout, limit, addressdetails, language, geometry, extratags, country_codes, viewbox, bounded, featuretype, namedetails)\u001b[0m\n\u001b[0;32m    295\u001b[0m logger\u001b[38;5;241m.\u001b[39mdebug(\u001b[38;5;124m\"\u001b[39m\u001b[38;5;132;01m%s\u001b[39;00m\u001b[38;5;124m.geocode: \u001b[39m\u001b[38;5;132;01m%s\u001b[39;00m\u001b[38;5;124m\"\u001b[39m, \u001b[38;5;28mself\u001b[39m\u001b[38;5;241m.\u001b[39m\u001b[38;5;18m__class__\u001b[39m\u001b[38;5;241m.\u001b[39m\u001b[38;5;18m__name__\u001b[39m, url)\n\u001b[0;32m    296\u001b[0m callback \u001b[38;5;241m=\u001b[39m partial(\u001b[38;5;28mself\u001b[39m\u001b[38;5;241m.\u001b[39m_parse_json, exactly_one\u001b[38;5;241m=\u001b[39mexactly_one)\n\u001b[1;32m--> 297\u001b[0m \u001b[38;5;28;01mreturn\u001b[39;00m \u001b[38;5;28;43mself\u001b[39;49m\u001b[38;5;241;43m.\u001b[39;49m\u001b[43m_call_geocoder\u001b[49m\u001b[43m(\u001b[49m\u001b[43murl\u001b[49m\u001b[43m,\u001b[49m\u001b[43m \u001b[49m\u001b[43mcallback\u001b[49m\u001b[43m,\u001b[49m\u001b[43m \u001b[49m\u001b[43mtimeout\u001b[49m\u001b[38;5;241;43m=\u001b[39;49m\u001b[43mtimeout\u001b[49m\u001b[43m)\u001b[49m\n",
      "File \u001b[1;32m~\\anaconda3\\envs\\geospatial\\lib\\site-packages\\geopy\\geocoders\\base.py:368\u001b[0m, in \u001b[0;36mGeocoder._call_geocoder\u001b[1;34m(self, url, callback, timeout, is_json, headers)\u001b[0m\n\u001b[0;32m    366\u001b[0m \u001b[38;5;28;01mtry\u001b[39;00m:\n\u001b[0;32m    367\u001b[0m     \u001b[38;5;28;01mif\u001b[39;00m is_json:\n\u001b[1;32m--> 368\u001b[0m         result \u001b[38;5;241m=\u001b[39m \u001b[38;5;28;43mself\u001b[39;49m\u001b[38;5;241;43m.\u001b[39;49m\u001b[43madapter\u001b[49m\u001b[38;5;241;43m.\u001b[39;49m\u001b[43mget_json\u001b[49m\u001b[43m(\u001b[49m\u001b[43murl\u001b[49m\u001b[43m,\u001b[49m\u001b[43m \u001b[49m\u001b[43mtimeout\u001b[49m\u001b[38;5;241;43m=\u001b[39;49m\u001b[43mtimeout\u001b[49m\u001b[43m,\u001b[49m\u001b[43m \u001b[49m\u001b[43mheaders\u001b[49m\u001b[38;5;241;43m=\u001b[39;49m\u001b[43mreq_headers\u001b[49m\u001b[43m)\u001b[49m\n\u001b[0;32m    369\u001b[0m     \u001b[38;5;28;01melse\u001b[39;00m:\n\u001b[0;32m    370\u001b[0m         result \u001b[38;5;241m=\u001b[39m \u001b[38;5;28mself\u001b[39m\u001b[38;5;241m.\u001b[39madapter\u001b[38;5;241m.\u001b[39mget_text(url, timeout\u001b[38;5;241m=\u001b[39mtimeout, headers\u001b[38;5;241m=\u001b[39mreq_headers)\n",
      "File \u001b[1;32m~\\anaconda3\\envs\\geospatial\\lib\\site-packages\\geopy\\adapters.py:438\u001b[0m, in \u001b[0;36mRequestsAdapter.get_json\u001b[1;34m(self, url, timeout, headers)\u001b[0m\n\u001b[0;32m    437\u001b[0m \u001b[38;5;28;01mdef\u001b[39;00m \u001b[38;5;21mget_json\u001b[39m(\u001b[38;5;28mself\u001b[39m, url, \u001b[38;5;241m*\u001b[39m, timeout, headers):\n\u001b[1;32m--> 438\u001b[0m     resp \u001b[38;5;241m=\u001b[39m \u001b[38;5;28;43mself\u001b[39;49m\u001b[38;5;241;43m.\u001b[39;49m\u001b[43m_request\u001b[49m\u001b[43m(\u001b[49m\u001b[43murl\u001b[49m\u001b[43m,\u001b[49m\u001b[43m \u001b[49m\u001b[43mtimeout\u001b[49m\u001b[38;5;241;43m=\u001b[39;49m\u001b[43mtimeout\u001b[49m\u001b[43m,\u001b[49m\u001b[43m \u001b[49m\u001b[43mheaders\u001b[49m\u001b[38;5;241;43m=\u001b[39;49m\u001b[43mheaders\u001b[49m\u001b[43m)\u001b[49m\n\u001b[0;32m    439\u001b[0m     \u001b[38;5;28;01mtry\u001b[39;00m:\n\u001b[0;32m    440\u001b[0m         \u001b[38;5;28;01mreturn\u001b[39;00m resp\u001b[38;5;241m.\u001b[39mjson()\n",
      "File \u001b[1;32m~\\anaconda3\\envs\\geospatial\\lib\\site-packages\\geopy\\adapters.py:460\u001b[0m, in \u001b[0;36mRequestsAdapter._request\u001b[1;34m(self, url, timeout, headers)\u001b[0m\n\u001b[0;32m    458\u001b[0m         \u001b[38;5;28;01mraise\u001b[39;00m GeocoderServiceError(message)\n\u001b[0;32m    459\u001b[0m     \u001b[38;5;28;01melse\u001b[39;00m:\n\u001b[1;32m--> 460\u001b[0m         \u001b[38;5;28;01mraise\u001b[39;00m GeocoderUnavailable(message)\n\u001b[0;32m    461\u001b[0m \u001b[38;5;28;01melif\u001b[39;00m \u001b[38;5;28misinstance\u001b[39m(error, requests\u001b[38;5;241m.\u001b[39mTimeout):\n\u001b[0;32m    462\u001b[0m     \u001b[38;5;28;01mraise\u001b[39;00m GeocoderTimedOut(\u001b[38;5;124m\"\u001b[39m\u001b[38;5;124mService timed out\u001b[39m\u001b[38;5;124m\"\u001b[39m)\n",
      "\u001b[1;31mGeocoderUnavailable\u001b[0m: HTTPSConnectionPool(host='nominatim.openstreetmap.org', port=443): Max retries exceeded with url: /search?q=Liverpool&format=json&limit=1 (Caused by ConnectTimeoutError(<urllib3.connection.HTTPSConnection object at 0x0000017FAE123D60>, 'Connection to nominatim.openstreetmap.org timed out. (connect timeout=1)'))"
     ]
    }
   ],
   "source": [
    "def put_markers(map, data):\n",
    "    geo_locator = Nominatim(user_agent=\"EvertonTweeters\")\n",
    "    for (name, location) in data:\n",
    "        if location:\n",
    "            try:\n",
    "                location = geo_locator.geocode(location)\n",
    "            except GeocoderTimedOut:\n",
    "                continue\n",
    "            if location:\n",
    "                folium.Marker([location.latitude, location.longitude], popup=name).add_to(map)\n",
    "\n",
    "if __name__ == \"__main__\":\n",
    "    map = folium.Map(location=[0, 0], zoom_start=2)\n",
    "    location_data = get_tweets(\"#Everton\")\n",
    "    put_markers(map, location_data)\n",
    "    map.save(\"index.html\")"
   ]
  },
  {
   "cell_type": "code",
   "execution_count": null,
   "id": "171d3d9e",
   "metadata": {},
   "outputs": [],
   "source": []
  }
 ],
 "metadata": {
  "kernelspec": {
   "display_name": "Python 3 (ipykernel)",
   "language": "python",
   "name": "python3"
  },
  "language_info": {
   "codemirror_mode": {
    "name": "ipython",
    "version": 3
   },
   "file_extension": ".py",
   "mimetype": "text/x-python",
   "name": "python",
   "nbconvert_exporter": "python",
   "pygments_lexer": "ipython3",
   "version": "3.10.4"
  },
  "vscode": {
   "interpreter": {
    "hash": "bb33f6d328f18c07440802b8c66874c52744b86bff5cfe8eb1d71afeb55a2150"
   }
  }
 },
 "nbformat": 4,
 "nbformat_minor": 5
}
