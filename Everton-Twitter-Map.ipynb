{
 "cells": [
  {
   "cell_type": "markdown",
   "id": "65c27e81",
   "metadata": {},
   "source": [
    "##  Making a Map of Everton Twitter  \n",
    "A map of twitter users across the globe using the hashtag #Everton"
   ]
  },
  {
   "cell_type": "code",
   "execution_count": 76,
   "id": "ddb9e52e",
   "metadata": {},
   "outputs": [
    {
     "data": {
      "text/plain": [
       "True"
      ]
     },
     "execution_count": 76,
     "metadata": {},
     "output_type": "execute_result"
    }
   ],
   "source": [
    "#Load necessary packages\n",
    "import tweepy\n",
    "import folium\n",
    "import geopy\n",
    "import os\n",
    "from geopy.geocoders import Nominatim\n",
    "from geopy.extra.rate_limiter import RateLimiter\n",
    "import pandas as pd\n",
    "import numpy as np\n",
    "import json\n",
    "from datetime import datetime\n",
    "\n",
    "#load environment serviceabs\n",
    "from dotenv import load_dotenv\n",
    "load_dotenv()"
   ]
  },
  {
   "cell_type": "code",
   "execution_count": 2,
   "id": "1adf5463",
   "metadata": {},
   "outputs": [],
   "source": [
    "#set authentication variables\n",
    "access_token_eve = os.environ.get('access_token')\n",
    "access_secret_eve = os.environ.get('access_secret')\n",
    "consumer_key_eve = os.environ.get('api_key')\n",
    "consumer_secret_eve = os.environ.get('api_secret')"
   ]
  },
  {
   "cell_type": "code",
   "execution_count": null,
   "id": "2ecd9a41",
   "metadata": {},
   "outputs": [],
   "source": []
  },
  {
   "cell_type": "code",
   "execution_count": 3,
   "id": "c1fa1ff0",
   "metadata": {},
   "outputs": [],
   "source": []
  },
  {
   "cell_type": "code",
   "execution_count": 64,
   "id": "2d7d4c27",
   "metadata": {},
   "outputs": [],
   "source": [
    "#load the Twitter API, create def for use\n",
    "def get_twitter_api():\n",
    "    # personal details\n",
    "    consumer_key = consumer_key_eve\n",
    "    consumer_secret = consumer_secret_eve\n",
    "    access_token = access_token_eve\n",
    "    access_token_secret = access_secret_eve\n",
    "    \n",
    "    # authentication of consumer key and secret\n",
    "    auth = tweepy.OAuthHandler(consumer_key, consumer_secret)\n",
    "    \n",
    "    # authentication of access token and secret\n",
    "    auth.set_access_token(access_token, access_token_secret)\n",
    "    api = tweepy.API(auth, wait_on_rate_limit=True)\n",
    "    \n",
    "    return api"
   ]
  },
  {
   "cell_type": "code",
   "execution_count": 65,
   "id": "9012b8d7",
   "metadata": {},
   "outputs": [],
   "source": [
    "#set search for location of the Twitter user\n",
    "#incorporate Twitter's own Lon/Lat data into the equation:\n",
    "#https://developer.twitter.com/en/docs/tutorials/filtering-tweets-by-location\n",
    "\n",
    "def get_tweets(search, count):\n",
    "    api = get_twitter_api()\n",
    "    location_data = []\n",
    "    for tweet in tweepy.Cursor(api.search_tweets, q=search).items(count):\n",
    "        if hasattr(tweet, 'user') and hasattr(tweet.user, 'screen_name') and hasattr(tweet.user, 'location') and hasattr(tweet, 'created_at') and hasattr(tweet, 'id'):\n",
    "            if tweet.user.location:\n",
    "                location_data.append((tweet.id, tweet.user.screen_name, tweet.user.location, str(tweet.created_at)))\n",
    "    return location_data"
   ]
  },
  {
   "cell_type": "code",
   "execution_count": 18,
   "id": "84f12d74",
   "metadata": {},
   "outputs": [
    {
     "name": "stdout",
     "output_type": "stream",
     "text": [
      "[(1547926057348517889, 'RossAftbl', 'Glasgow/St Albans', '2022-07-15 12:48:25+00:00'), (1547925446796496896, 'fan_banter', 'United Kingdom', '2022-07-15 12:46:00+00:00'), (1547925444560764928, 'matola_olexandr', 'Odessa, Ukraine', '2022-07-15 12:45:59+00:00'), (1547924528625434626, 'StavrateCom', 'Europe', '2022-07-15 12:42:21+00:00'), (1547922996949504003, 'GEEZERBOY1977', 'England, United Kingdom', '2022-07-15 12:36:16+00:00'), (1547919631796473858, 'Fussballeck', 'Deutschland', '2022-07-15 12:22:53+00:00'), (1547913168784986114, 'SimonCBondar', 'Seacombe, England', '2022-07-15 11:57:12+00:00')]\n"
     ]
    }
   ],
   "source": [
    "#pull the tweets and store in data frame \n",
    "#data should include -Twitter screen name; location, created date, Tweet ID\n",
    "\n",
    "search_terms=\"#Everton\"\n",
    "\n",
    "tweet_batch = get_tweets(search_terms, 2500)\n",
    "\n",
    "#print to check\n",
    "print(tweet_batch)"
   ]
  },
  {
   "cell_type": "code",
   "execution_count": 70,
   "id": "ef16ff3c",
   "metadata": {},
   "outputs": [],
   "source": [
    "#convert array to NumPy array\n",
    "tweets=np.array(tweet_batch)"
   ]
  },
  {
   "cell_type": "code",
   "execution_count": 68,
   "id": "6c0911be",
   "metadata": {},
   "outputs": [
    {
     "name": "stdout",
     "output_type": "stream",
     "text": [
      "<class 'pandas.core.frame.DataFrame'>\n",
      "RangeIndex: 7 entries, 0 to 6\n",
      "Data columns (total 4 columns):\n",
      " #   Column     Non-Null Count  Dtype \n",
      "---  ------     --------------  ----- \n",
      " 0   ID         7 non-null      object\n",
      " 1   Name       7 non-null      object\n",
      " 2   Location   7 non-null      object\n",
      " 3   Date-Time  7 non-null      object\n",
      "dtypes: object(4)\n",
      "memory usage: 352.0+ bytes\n"
     ]
    }
   ],
   "source": [
    "#convert to dataframe\n",
    "df = pd.DataFrame(tweets, columns=[\"ID\", \"Name\", \"Location\", \"Date-Time\"])\n",
    "df.info()"
   ]
  },
  {
   "cell_type": "code",
   "execution_count": 46,
   "id": "a6385347",
   "metadata": {},
   "outputs": [],
   "source": [
    "def addLatLon(data):\n",
    "    #define the geolocator service\n",
    "    geo_locator = Nominatim(user_agent=\"EvertonTweeters\")\n",
    "    \n",
    "    #define the geocoder, with a rate limiter so we don't break Nominatum\n",
    "    geocode = RateLimiter(geo_locator.geocode, min_delay_seconds=2)\n",
    "    \n",
    "    print(\"first step: \", data.head(2))\n",
    "    \n",
    "    for (Location) in data:\n",
    "        #geocode the location, then add lat/lon to dataframe; if not a valid location, put \"NaN\"\n",
    "        data[\"Location\"] = data[\"Location\"].apply(geocode)\n",
    "        data['Lat'] = data['Location'].apply(lambda x: x.latitude if x else None)\n",
    "        data[\"Lon\"] = data['Location'].apply(lambda x: x.longitude if x else None)\n",
    "    \n",
    "    return data"
   ]
  },
  {
   "cell_type": "code",
   "execution_count": 47,
   "id": "815cdd23",
   "metadata": {},
   "outputs": [
    {
     "name": "stdout",
     "output_type": "stream",
     "text": [
      "first step:                      ID        Name           Location  \\\n",
      "0  1547926057348517889   RossAftbl  Glasgow/St Albans   \n",
      "1  1547925446796496896  fan_banter     United Kingdom   \n",
      "\n",
      "                   Date-Time  \n",
      "0  2022-07-15 12:48:25+00:00  \n",
      "1  2022-07-15 12:46:00+00:00  \n"
     ]
    }
   ],
   "source": [
    "tweet_loc = addLatLon(df)"
   ]
  },
  {
   "cell_type": "code",
   "execution_count": 48,
   "id": "88d2553c",
   "metadata": {},
   "outputs": [
    {
     "name": "stdout",
     "output_type": "stream",
     "text": [
      "<class 'pandas.core.frame.DataFrame'>\n",
      "RangeIndex: 7 entries, 0 to 6\n",
      "Data columns (total 6 columns):\n",
      " #   Column     Non-Null Count  Dtype  \n",
      "---  ------     --------------  -----  \n",
      " 0   ID         7 non-null      object \n",
      " 1   Name       7 non-null      object \n",
      " 2   Location   7 non-null      object \n",
      " 3   Date-Time  7 non-null      object \n",
      " 4   Lat        7 non-null      float64\n",
      " 5   Lon        7 non-null      float64\n",
      "dtypes: float64(2), object(4)\n",
      "memory usage: 464.0+ bytes\n"
     ]
    }
   ],
   "source": [
    "tweet_loc.info()"
   ]
  },
  {
   "cell_type": "code",
   "execution_count": 97,
   "id": "c2086553",
   "metadata": {},
   "outputs": [
    {
     "ename": "SyntaxError",
     "evalue": "unterminated string literal (detected at line 10) (204965442.py, line 10)",
     "output_type": "error",
     "traceback": [
      "\u001b[1;36m  Input \u001b[1;32mIn [97]\u001b[1;36m\u001b[0m\n\u001b[1;33m    tweet_json = tweet_loc.to_json('\\json_path\\', orient='records')\u001b[0m\n\u001b[1;37m                                                                 ^\u001b[0m\n\u001b[1;31mSyntaxError\u001b[0m\u001b[1;31m:\u001b[0m unterminated string literal (detected at line 10)\n"
     ]
    }
   ],
   "source": [
    "#write data to json\n",
    "#to add: filter to prevent duplicate tweets\n",
    "\n",
    "#set json file name to include today's date\n",
    "date = datetime.now().strftime(\"%Y_%m_%d-%I:%M:%S_%p\")\n",
    "\n",
    "json_path = str(f'tweet_loc_{date}.json')\n",
    "print(json_path)\n",
    "\n",
    "tweet_json = tweet_loc.to_json('json_path', orient='records')\n",
    "print(tweet_json)\n"
   ]
  },
  {
   "cell_type": "code",
   "execution_count": 59,
   "id": "1a7dc853",
   "metadata": {},
   "outputs": [],
   "source": [
    "def put_markers(map, data):\n",
    "    for i in range(0,len(data)):\n",
    "       folium.Marker(\n",
    "          location=[data.iloc[i]['Lat'], data.iloc[i]['Lon']],\n",
    "          popup=data.iloc[i]['Name'],\n",
    "        ).add_to(map)"
   ]
  },
  {
   "cell_type": "code",
   "execution_count": 60,
   "id": "0bf4e9a5",
   "metadata": {},
   "outputs": [],
   "source": [
    "map = folium.Map(location=[0,0], tiles=\"OpenStreetMap\", zoom_start=2)\n",
    "\n",
    "put_markers(map, tweet_loc)\n",
    "\n",
    "map"
   ]
  },
  {
   "cell_type": "code",
   "execution_count": 61,
   "id": "b4741162",
   "metadata": {},
   "outputs": [
    {
     "data": {
      "text/html": [
       "<div style=\"width:100%;\"><div style=\"position:relative;width:100%;height:0;padding-bottom:60%;\"><span style=\"color:#565656\">Make this Notebook Trusted to load map: File -> Trust Notebook</span><iframe srcdoc=\"&lt;!DOCTYPE html&gt;\n",
       "&lt;head&gt;    \n",
       "    &lt;meta http-equiv=&quot;content-type&quot; content=&quot;text/html; charset=UTF-8&quot; /&gt;\n",
       "    \n",
       "        &lt;script&gt;\n",
       "            L_NO_TOUCH = false;\n",
       "            L_DISABLE_3D = false;\n",
       "        &lt;/script&gt;\n",
       "    \n",
       "    &lt;style&gt;html, body {width: 100%;height: 100%;margin: 0;padding: 0;}&lt;/style&gt;\n",
       "    &lt;style&gt;#map {position:absolute;top:0;bottom:0;right:0;left:0;}&lt;/style&gt;\n",
       "    &lt;script src=&quot;https://cdn.jsdelivr.net/npm/leaflet@1.6.0/dist/leaflet.js&quot;&gt;&lt;/script&gt;\n",
       "    &lt;script src=&quot;https://code.jquery.com/jquery-1.12.4.min.js&quot;&gt;&lt;/script&gt;\n",
       "    &lt;script src=&quot;https://maxcdn.bootstrapcdn.com/bootstrap/3.2.0/js/bootstrap.min.js&quot;&gt;&lt;/script&gt;\n",
       "    &lt;script src=&quot;https://cdnjs.cloudflare.com/ajax/libs/Leaflet.awesome-markers/2.0.2/leaflet.awesome-markers.js&quot;&gt;&lt;/script&gt;\n",
       "    &lt;link rel=&quot;stylesheet&quot; href=&quot;https://cdn.jsdelivr.net/npm/leaflet@1.6.0/dist/leaflet.css&quot;/&gt;\n",
       "    &lt;link rel=&quot;stylesheet&quot; href=&quot;https://maxcdn.bootstrapcdn.com/bootstrap/3.2.0/css/bootstrap.min.css&quot;/&gt;\n",
       "    &lt;link rel=&quot;stylesheet&quot; href=&quot;https://maxcdn.bootstrapcdn.com/bootstrap/3.2.0/css/bootstrap-theme.min.css&quot;/&gt;\n",
       "    &lt;link rel=&quot;stylesheet&quot; href=&quot;https://maxcdn.bootstrapcdn.com/font-awesome/4.6.3/css/font-awesome.min.css&quot;/&gt;\n",
       "    &lt;link rel=&quot;stylesheet&quot; href=&quot;https://cdnjs.cloudflare.com/ajax/libs/Leaflet.awesome-markers/2.0.2/leaflet.awesome-markers.css&quot;/&gt;\n",
       "    &lt;link rel=&quot;stylesheet&quot; href=&quot;https://cdn.jsdelivr.net/gh/python-visualization/folium/folium/templates/leaflet.awesome.rotate.min.css&quot;/&gt;\n",
       "    \n",
       "            &lt;meta name=&quot;viewport&quot; content=&quot;width=device-width,\n",
       "                initial-scale=1.0, maximum-scale=1.0, user-scalable=no&quot; /&gt;\n",
       "            &lt;style&gt;\n",
       "                #map_b559719e35877aebe4b6c0b96795ee4d {\n",
       "                    position: relative;\n",
       "                    width: 100.0%;\n",
       "                    height: 100.0%;\n",
       "                    left: 0.0%;\n",
       "                    top: 0.0%;\n",
       "                }\n",
       "            &lt;/style&gt;\n",
       "        \n",
       "&lt;/head&gt;\n",
       "&lt;body&gt;    \n",
       "    \n",
       "            &lt;div class=&quot;folium-map&quot; id=&quot;map_b559719e35877aebe4b6c0b96795ee4d&quot; &gt;&lt;/div&gt;\n",
       "        \n",
       "&lt;/body&gt;\n",
       "&lt;script&gt;    \n",
       "    \n",
       "            var map_b559719e35877aebe4b6c0b96795ee4d = L.map(\n",
       "                &quot;map_b559719e35877aebe4b6c0b96795ee4d&quot;,\n",
       "                {\n",
       "                    center: [0.0, 0.0],\n",
       "                    crs: L.CRS.EPSG3857,\n",
       "                    zoom: 2,\n",
       "                    zoomControl: true,\n",
       "                    preferCanvas: false,\n",
       "                }\n",
       "            );\n",
       "\n",
       "            \n",
       "\n",
       "        \n",
       "    \n",
       "            var tile_layer_e59deeeffe89fbe1c52025cda2962382 = L.tileLayer(\n",
       "                &quot;https://{s}.tile.openstreetmap.org/{z}/{x}/{y}.png&quot;,\n",
       "                {&quot;attribution&quot;: &quot;Data by \\u0026copy; \\u003ca href=\\&quot;http://openstreetmap.org\\&quot;\\u003eOpenStreetMap\\u003c/a\\u003e, under \\u003ca href=\\&quot;http://www.openstreetmap.org/copyright\\&quot;\\u003eODbL\\u003c/a\\u003e.&quot;, &quot;detectRetina&quot;: false, &quot;maxNativeZoom&quot;: 18, &quot;maxZoom&quot;: 18, &quot;minZoom&quot;: 0, &quot;noWrap&quot;: false, &quot;opacity&quot;: 1, &quot;subdomains&quot;: &quot;abc&quot;, &quot;tms&quot;: false}\n",
       "            ).addTo(map_b559719e35877aebe4b6c0b96795ee4d);\n",
       "        \n",
       "    \n",
       "            var marker_f0e0b3717c9eb8b595c44c410561931c = L.marker(\n",
       "                [44.933143, 7.540121],\n",
       "                {}\n",
       "            ).addTo(map_b559719e35877aebe4b6c0b96795ee4d);\n",
       "        \n",
       "    \n",
       "        var popup_b8c7b811cd782048cd73e7a115289576 = L.popup({&quot;maxWidth&quot;: &quot;100%&quot;});\n",
       "\n",
       "        \n",
       "            var html_e5e71cc81169c23e2cb12c8c6f11b091 = $(`&lt;div id=&quot;html_e5e71cc81169c23e2cb12c8c6f11b091&quot; style=&quot;width: 100.0%; height: 100.0%;&quot;&gt;RossAftbl&lt;/div&gt;`)[0];\n",
       "            popup_b8c7b811cd782048cd73e7a115289576.setContent(html_e5e71cc81169c23e2cb12c8c6f11b091);\n",
       "        \n",
       "\n",
       "        marker_f0e0b3717c9eb8b595c44c410561931c.bindPopup(popup_b8c7b811cd782048cd73e7a115289576)\n",
       "        ;\n",
       "\n",
       "        \n",
       "    \n",
       "    \n",
       "            var marker_e4037b22607fffb41f254cf551814479 = L.marker(\n",
       "                [54.7023545, -3.2765753],\n",
       "                {}\n",
       "            ).addTo(map_b559719e35877aebe4b6c0b96795ee4d);\n",
       "        \n",
       "    \n",
       "        var popup_dae6e24d313d63f535d759e312bfb94b = L.popup({&quot;maxWidth&quot;: &quot;100%&quot;});\n",
       "\n",
       "        \n",
       "            var html_cf61d530e5f5cbb3c58dacfa5f4fc055 = $(`&lt;div id=&quot;html_cf61d530e5f5cbb3c58dacfa5f4fc055&quot; style=&quot;width: 100.0%; height: 100.0%;&quot;&gt;fan_banter&lt;/div&gt;`)[0];\n",
       "            popup_dae6e24d313d63f535d759e312bfb94b.setContent(html_cf61d530e5f5cbb3c58dacfa5f4fc055);\n",
       "        \n",
       "\n",
       "        marker_e4037b22607fffb41f254cf551814479.bindPopup(popup_dae6e24d313d63f535d759e312bfb94b)\n",
       "        ;\n",
       "\n",
       "        \n",
       "    \n",
       "    \n",
       "            var marker_c05765f7c77b59eec9d80659a3e3a206 = L.marker(\n",
       "                [46.4843023, 30.7322878],\n",
       "                {}\n",
       "            ).addTo(map_b559719e35877aebe4b6c0b96795ee4d);\n",
       "        \n",
       "    \n",
       "        var popup_fb1a8960a8aae3e800d85c53995eafee = L.popup({&quot;maxWidth&quot;: &quot;100%&quot;});\n",
       "\n",
       "        \n",
       "            var html_149726488da5b861d906e1bab84e92ff = $(`&lt;div id=&quot;html_149726488da5b861d906e1bab84e92ff&quot; style=&quot;width: 100.0%; height: 100.0%;&quot;&gt;matola_olexandr&lt;/div&gt;`)[0];\n",
       "            popup_fb1a8960a8aae3e800d85c53995eafee.setContent(html_149726488da5b861d906e1bab84e92ff);\n",
       "        \n",
       "\n",
       "        marker_c05765f7c77b59eec9d80659a3e3a206.bindPopup(popup_fb1a8960a8aae3e800d85c53995eafee)\n",
       "        ;\n",
       "\n",
       "        \n",
       "    \n",
       "    \n",
       "            var marker_c0c467f3f9e1b436865b00b6318928dc = L.marker(\n",
       "                [51.0, 10.0],\n",
       "                {}\n",
       "            ).addTo(map_b559719e35877aebe4b6c0b96795ee4d);\n",
       "        \n",
       "    \n",
       "        var popup_8a881a0a7fa62691203d99abecdc9064 = L.popup({&quot;maxWidth&quot;: &quot;100%&quot;});\n",
       "\n",
       "        \n",
       "            var html_c95a4137601eb478c0a9c0a988c42264 = $(`&lt;div id=&quot;html_c95a4137601eb478c0a9c0a988c42264&quot; style=&quot;width: 100.0%; height: 100.0%;&quot;&gt;StavrateCom&lt;/div&gt;`)[0];\n",
       "            popup_8a881a0a7fa62691203d99abecdc9064.setContent(html_c95a4137601eb478c0a9c0a988c42264);\n",
       "        \n",
       "\n",
       "        marker_c0c467f3f9e1b436865b00b6318928dc.bindPopup(popup_8a881a0a7fa62691203d99abecdc9064)\n",
       "        ;\n",
       "\n",
       "        \n",
       "    \n",
       "    \n",
       "            var marker_f5c83ac5b4a4a888b2e75b5ec59bcd27 = L.marker(\n",
       "                [52.5310214, -1.2649062],\n",
       "                {}\n",
       "            ).addTo(map_b559719e35877aebe4b6c0b96795ee4d);\n",
       "        \n",
       "    \n",
       "        var popup_411ad01bd6052e62ca17dc6b53d3ed6e = L.popup({&quot;maxWidth&quot;: &quot;100%&quot;});\n",
       "\n",
       "        \n",
       "            var html_2ee335953398b2559b100194284fa81e = $(`&lt;div id=&quot;html_2ee335953398b2559b100194284fa81e&quot; style=&quot;width: 100.0%; height: 100.0%;&quot;&gt;GEEZERBOY1977&lt;/div&gt;`)[0];\n",
       "            popup_411ad01bd6052e62ca17dc6b53d3ed6e.setContent(html_2ee335953398b2559b100194284fa81e);\n",
       "        \n",
       "\n",
       "        marker_f5c83ac5b4a4a888b2e75b5ec59bcd27.bindPopup(popup_411ad01bd6052e62ca17dc6b53d3ed6e)\n",
       "        ;\n",
       "\n",
       "        \n",
       "    \n",
       "    \n",
       "            var marker_a5707a5027268647dd397236b21686fd = L.marker(\n",
       "                [51.0834196, 10.4234469],\n",
       "                {}\n",
       "            ).addTo(map_b559719e35877aebe4b6c0b96795ee4d);\n",
       "        \n",
       "    \n",
       "        var popup_d5b3eaf29ee6c93bdd3753a813c7984c = L.popup({&quot;maxWidth&quot;: &quot;100%&quot;});\n",
       "\n",
       "        \n",
       "            var html_85511d2a486f2ce51810a4c1fa5bc250 = $(`&lt;div id=&quot;html_85511d2a486f2ce51810a4c1fa5bc250&quot; style=&quot;width: 100.0%; height: 100.0%;&quot;&gt;Fussballeck&lt;/div&gt;`)[0];\n",
       "            popup_d5b3eaf29ee6c93bdd3753a813c7984c.setContent(html_85511d2a486f2ce51810a4c1fa5bc250);\n",
       "        \n",
       "\n",
       "        marker_a5707a5027268647dd397236b21686fd.bindPopup(popup_d5b3eaf29ee6c93bdd3753a813c7984c)\n",
       "        ;\n",
       "\n",
       "        \n",
       "    \n",
       "    \n",
       "            var marker_9bac12d0c6985f6b5d0362c31b211d69 = L.marker(\n",
       "                [53.4083242, -3.0229049],\n",
       "                {}\n",
       "            ).addTo(map_b559719e35877aebe4b6c0b96795ee4d);\n",
       "        \n",
       "    \n",
       "        var popup_67b5b357944c8b0d873a5e38ea6739b0 = L.popup({&quot;maxWidth&quot;: &quot;100%&quot;});\n",
       "\n",
       "        \n",
       "            var html_a875acc2ecbf17c202c6b850b0cc2f2f = $(`&lt;div id=&quot;html_a875acc2ecbf17c202c6b850b0cc2f2f&quot; style=&quot;width: 100.0%; height: 100.0%;&quot;&gt;SimonCBondar&lt;/div&gt;`)[0];\n",
       "            popup_67b5b357944c8b0d873a5e38ea6739b0.setContent(html_a875acc2ecbf17c202c6b850b0cc2f2f);\n",
       "        \n",
       "\n",
       "        marker_9bac12d0c6985f6b5d0362c31b211d69.bindPopup(popup_67b5b357944c8b0d873a5e38ea6739b0)\n",
       "        ;\n",
       "\n",
       "        \n",
       "    \n",
       "&lt;/script&gt;\" style=\"position:absolute;width:100%;height:100%;left:0;top:0;border:none !important;\" allowfullscreen webkitallowfullscreen mozallowfullscreen></iframe></div></div>"
      ],
      "text/plain": [
       "<folium.folium.Map at 0x18dd5cdfa00>"
      ]
     },
     "execution_count": 61,
     "metadata": {},
     "output_type": "execute_result"
    }
   ],
   "source": [
    "map"
   ]
  },
  {
   "cell_type": "code",
   "execution_count": null,
   "id": "28743f80",
   "metadata": {},
   "outputs": [],
   "source": [
    "\n"
   ]
  },
  {
   "cell_type": "code",
   "execution_count": null,
   "id": "ff77ca7b",
   "metadata": {},
   "outputs": [],
   "source": []
  },
  {
   "cell_type": "code",
   "execution_count": null,
   "id": "3cf161fe",
   "metadata": {},
   "outputs": [],
   "source": []
  },
  {
   "cell_type": "code",
   "execution_count": null,
   "id": "fbf71c6a",
   "metadata": {},
   "outputs": [],
   "source": []
  }
 ],
 "metadata": {
  "kernelspec": {
   "display_name": "Python 3 (ipykernel)",
   "language": "python",
   "name": "python3"
  },
  "language_info": {
   "codemirror_mode": {
    "name": "ipython",
    "version": 3
   },
   "file_extension": ".py",
   "mimetype": "text/x-python",
   "name": "python",
   "nbconvert_exporter": "python",
   "pygments_lexer": "ipython3",
   "version": "3.10.4"
  },
  "vscode": {
   "interpreter": {
    "hash": "bb33f6d328f18c07440802b8c66874c52744b86bff5cfe8eb1d71afeb55a2150"
   }
  }
 },
 "nbformat": 4,
 "nbformat_minor": 5
}
