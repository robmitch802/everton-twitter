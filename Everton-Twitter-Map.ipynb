{
 "cells": [
  {
   "cell_type": "code",
   "execution_count": 27,
   "id": "ddb9e52e",
   "metadata": {},
   "outputs": [],
   "source": [
    "import tweepy\n",
    "import os"
   ]
  },
  {
   "cell_type": "code",
   "execution_count": 31,
   "id": "1adf5463",
   "metadata": {},
   "outputs": [],
   "source": [
    "access_token_eve = os.environ.get('access_token')\n",
    "access_secret_eve = os.environ.get('access_secret')\n",
    "consumer_key_eve = os.environ.get('api_key')\n",
    "consumer_secret_eve = os.environ.get('api_secret')"
   ]
  },
  {
   "cell_type": "code",
   "execution_count": 34,
   "id": "2ecd9a41",
   "metadata": {},
   "outputs": [
    {
     "name": "stdout",
     "output_type": "stream",
     "text": [
      "None\n"
     ]
    }
   ],
   "source": [
    "print(access_token_eve)"
   ]
  },
  {
   "cell_type": "code",
   "execution_count": 33,
   "id": "2d7d4c27",
   "metadata": {},
   "outputs": [
    {
     "ename": "TypeError",
     "evalue": "Consumer key must be string or bytes, not NoneType",
     "output_type": "error",
     "traceback": [
      "\u001b[1;31m---------------------------------------------------------------------------\u001b[0m",
      "\u001b[1;31mTypeError\u001b[0m                                 Traceback (most recent call last)",
      "Input \u001b[1;32mIn [33]\u001b[0m, in \u001b[0;36m<cell line: 28>\u001b[1;34m()\u001b[0m\n\u001b[0;32m     26\u001b[0m             \u001b[38;5;28mprint\u001b[39m(\u001b[38;5;124m\"\u001b[39m\u001b[38;5;124mCoordinates\u001b[39m\u001b[38;5;124m\"\u001b[39m, tweet\u001b[38;5;241m.\u001b[39mlocation)\n\u001b[0;32m     27\u001b[0m     \u001b[38;5;28mprint\u001b[39m(count)\n\u001b[1;32m---> 28\u001b[0m \u001b[43mget_twitter_location\u001b[49m\u001b[43m(\u001b[49m\u001b[38;5;124;43m\"\u001b[39;49m\u001b[38;5;124;43m#Everton\u001b[39;49m\u001b[38;5;124;43m\"\u001b[39;49m\u001b[43m)\u001b[49m\n",
      "Input \u001b[1;32mIn [33]\u001b[0m, in \u001b[0;36mget_twitter_location\u001b[1;34m(search)\u001b[0m\n\u001b[0;32m     17\u001b[0m \u001b[38;5;28;01mdef\u001b[39;00m \u001b[38;5;21mget_twitter_location\u001b[39m(search):\n\u001b[1;32m---> 18\u001b[0m     api \u001b[38;5;241m=\u001b[39m \u001b[43mget_twitter_api\u001b[49m\u001b[43m(\u001b[49m\u001b[43m)\u001b[49m\n\u001b[0;32m     19\u001b[0m     count \u001b[38;5;241m=\u001b[39m \u001b[38;5;241m0\u001b[39m\n\u001b[0;32m     20\u001b[0m     \u001b[38;5;28;01mfor\u001b[39;00m tweet \u001b[38;5;129;01min\u001b[39;00m tweepy\u001b[38;5;241m.\u001b[39mCursor(api\u001b[38;5;241m.\u001b[39msearch, q\u001b[38;5;241m=\u001b[39msearch)\u001b[38;5;241m.\u001b[39mitems(\u001b[38;5;241m500\u001b[39m):\n",
      "Input \u001b[1;32mIn [33]\u001b[0m, in \u001b[0;36mget_twitter_api\u001b[1;34m()\u001b[0m\n\u001b[0;32m      6\u001b[0m access_token_secret \u001b[38;5;241m=\u001b[39m access_secret_eve\n\u001b[0;32m      8\u001b[0m \u001b[38;5;66;03m# authentication of consumer key and secret\u001b[39;00m\n\u001b[1;32m----> 9\u001b[0m auth \u001b[38;5;241m=\u001b[39m \u001b[43mtweepy\u001b[49m\u001b[38;5;241;43m.\u001b[39;49m\u001b[43mOAuthHandler\u001b[49m\u001b[43m(\u001b[49m\u001b[43mconsumer_key\u001b[49m\u001b[43m,\u001b[49m\u001b[43m \u001b[49m\u001b[43mconsumer_secret\u001b[49m\u001b[43m)\u001b[49m\n\u001b[0;32m     11\u001b[0m \u001b[38;5;66;03m# authentication of access token and secret\u001b[39;00m\n\u001b[0;32m     12\u001b[0m auth\u001b[38;5;241m.\u001b[39mset_access_token(access_token, access_token_secret)\n",
      "File \u001b[1;32m~\\anaconda3\\envs\\geospatial\\lib\\site-packages\\tweepy\\auth.py:124\u001b[0m, in \u001b[0;36mOAuthHandler.__init__\u001b[1;34m(self, consumer_key, consumer_secret, access_token, access_token_secret, callback)\u001b[0m\n\u001b[0;32m    118\u001b[0m \u001b[38;5;28;01mdef\u001b[39;00m \u001b[38;5;21m__init__\u001b[39m(\u001b[38;5;28mself\u001b[39m, consumer_key, consumer_secret, access_token\u001b[38;5;241m=\u001b[39m\u001b[38;5;28;01mNone\u001b[39;00m,\n\u001b[0;32m    119\u001b[0m              access_token_secret\u001b[38;5;241m=\u001b[39m\u001b[38;5;28;01mNone\u001b[39;00m, callback\u001b[38;5;241m=\u001b[39m\u001b[38;5;28;01mNone\u001b[39;00m):\n\u001b[0;32m    120\u001b[0m     warnings\u001b[38;5;241m.\u001b[39mwarn(\n\u001b[0;32m    121\u001b[0m         \u001b[38;5;124m\"\u001b[39m\u001b[38;5;124mOAuthHandler is deprecated; use OAuth1UserHandler instead.\u001b[39m\u001b[38;5;124m\"\u001b[39m,\n\u001b[0;32m    122\u001b[0m         \u001b[38;5;167;01mDeprecationWarning\u001b[39;00m\n\u001b[0;32m    123\u001b[0m     )\n\u001b[1;32m--> 124\u001b[0m     \u001b[38;5;28;43msuper\u001b[39;49m\u001b[43m(\u001b[49m\u001b[43m)\u001b[49m\u001b[38;5;241;43m.\u001b[39;49m\u001b[38;5;21;43m__init__\u001b[39;49m\u001b[43m(\u001b[49m\u001b[43mconsumer_key\u001b[49m\u001b[43m,\u001b[49m\u001b[43m \u001b[49m\u001b[43mconsumer_secret\u001b[49m\u001b[43m,\u001b[49m\u001b[43m \u001b[49m\u001b[43maccess_token\u001b[49m\u001b[43m,\u001b[49m\u001b[43m \u001b[49m\n\u001b[0;32m    125\u001b[0m \u001b[43m                     \u001b[49m\u001b[43maccess_token_secret\u001b[49m\u001b[43m,\u001b[49m\u001b[43m \u001b[49m\u001b[43mcallback\u001b[49m\u001b[43m)\u001b[49m\n",
      "File \u001b[1;32m~\\anaconda3\\envs\\geospatial\\lib\\site-packages\\tweepy\\auth.py:31\u001b[0m, in \u001b[0;36mOAuth1UserHandler.__init__\u001b[1;34m(self, consumer_key, consumer_secret, access_token, access_token_secret, callback)\u001b[0m\n\u001b[0;32m     28\u001b[0m \u001b[38;5;28;01mdef\u001b[39;00m \u001b[38;5;21m__init__\u001b[39m(\u001b[38;5;28mself\u001b[39m, consumer_key, consumer_secret, access_token\u001b[38;5;241m=\u001b[39m\u001b[38;5;28;01mNone\u001b[39;00m,\n\u001b[0;32m     29\u001b[0m              access_token_secret\u001b[38;5;241m=\u001b[39m\u001b[38;5;28;01mNone\u001b[39;00m, callback\u001b[38;5;241m=\u001b[39m\u001b[38;5;28;01mNone\u001b[39;00m):\n\u001b[0;32m     30\u001b[0m     \u001b[38;5;28;01mif\u001b[39;00m \u001b[38;5;129;01mnot\u001b[39;00m \u001b[38;5;28misinstance\u001b[39m(consumer_key, (\u001b[38;5;28mstr\u001b[39m, \u001b[38;5;28mbytes\u001b[39m)):\n\u001b[1;32m---> 31\u001b[0m         \u001b[38;5;28;01mraise\u001b[39;00m \u001b[38;5;167;01mTypeError\u001b[39;00m(\u001b[38;5;124m\"\u001b[39m\u001b[38;5;124mConsumer key must be string or bytes, not \u001b[39m\u001b[38;5;124m\"\u001b[39m\n\u001b[0;32m     32\u001b[0m                         \u001b[38;5;241m+\u001b[39m \u001b[38;5;28mtype\u001b[39m(consumer_key)\u001b[38;5;241m.\u001b[39m\u001b[38;5;18m__name__\u001b[39m)\n\u001b[0;32m     33\u001b[0m     \u001b[38;5;28;01mif\u001b[39;00m \u001b[38;5;129;01mnot\u001b[39;00m \u001b[38;5;28misinstance\u001b[39m(consumer_secret, (\u001b[38;5;28mstr\u001b[39m, \u001b[38;5;28mbytes\u001b[39m)):\n\u001b[0;32m     34\u001b[0m         \u001b[38;5;28;01mraise\u001b[39;00m \u001b[38;5;167;01mTypeError\u001b[39;00m(\u001b[38;5;124m\"\u001b[39m\u001b[38;5;124mConsumer secret must be string or bytes, not \u001b[39m\u001b[38;5;124m\"\u001b[39m\n\u001b[0;32m     35\u001b[0m                         \u001b[38;5;241m+\u001b[39m \u001b[38;5;28mtype\u001b[39m(consumer_secret)\u001b[38;5;241m.\u001b[39m\u001b[38;5;18m__name__\u001b[39m)\n",
      "\u001b[1;31mTypeError\u001b[0m: Consumer key must be string or bytes, not NoneType"
     ]
    }
   ],
   "source": [
    "def get_twitter_api():\n",
    "    # personal details\n",
    "    consumer_key = consumer_key_eve\n",
    "    consumer_secret = consumer_secret_eve\n",
    "    access_token = access_token_eve\n",
    "    access_token_secret = access_secret_eve\n",
    "    \n",
    "    # authentication of consumer key and secret\n",
    "    auth = tweepy.OAuthHandler(consumer_key, consumer_secret)\n",
    "    \n",
    "    # authentication of access token and secret\n",
    "    auth.set_access_token(access_token, access_token_secret)\n",
    "    api = tweepy.API(auth, wait_on_rate_limit=True, wait_on_rate_limit_notify=True)\n",
    "    \n",
    "    return api\n",
    "\n",
    "def get_twitter_location(search):\n",
    "    api = get_twitter_api()\n",
    "    count = 0\n",
    "    for tweet in tweepy.Cursor(api.search, q=search).items(500):\n",
    "        if hasattr(tweet, 'coordinates') and tweet.coordinates is not None:\n",
    "            count += 1\n",
    "            print(\"Coordinates\", tweet.coordinates)\n",
    "        if hasattr(tweet, 'location') and tweet.location is not None:\n",
    "            count += 1\n",
    "            print(\"Coordinates\", tweet.location)\n",
    "    print(count)\n",
    "get_twitter_location(\"#Everton\")"
   ]
  },
  {
   "cell_type": "code",
   "execution_count": 10,
   "id": "9012b8d7",
   "metadata": {},
   "outputs": [],
   "source": [
    "def get_tweets(search):\n",
    "    api = get_twitter_api()\n",
    "    location_data = []\n",
    "    for tweet in tweepy.Cursor(api.search, q=search).items(500):\n",
    "        if hasattr(tweet, 'user') and hasattr(tweet.user, 'screen_name') and hasattr(tweet.user, 'location'):\n",
    "            if tweet.user.location:\n",
    "                location_data.append((tweet.user.screen_name, tweet.user.location))\n",
    "    return location_data"
   ]
  },
  {
   "cell_type": "code",
   "execution_count": null,
   "id": "1a7dc853",
   "metadata": {},
   "outputs": [],
   "source": []
  }
 ],
 "metadata": {
  "kernelspec": {
   "display_name": "Python 3 (ipykernel)",
   "language": "python",
   "name": "python3"
  },
  "language_info": {
   "codemirror_mode": {
    "name": "ipython",
    "version": 3
   },
   "file_extension": ".py",
   "mimetype": "text/x-python",
   "name": "python",
   "nbconvert_exporter": "python",
   "pygments_lexer": "ipython3",
   "version": "3.10.4"
  },
  "vscode": {
   "interpreter": {
    "hash": "bb33f6d328f18c07440802b8c66874c52744b86bff5cfe8eb1d71afeb55a2150"
   }
  }
 },
 "nbformat": 4,
 "nbformat_minor": 5
}
