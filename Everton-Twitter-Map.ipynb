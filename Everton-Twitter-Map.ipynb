{
 "cells": [
  {
   "cell_type": "code",
   "execution_count": 5,
   "id": "7bef0c8e",
   "metadata": {},
   "outputs": [],
   "source": [
    "import tweepy as twp\n",
    "\n",
    "import config"
   ]
  },
  {
   "cell_type": "code",
   "execution_count": 7,
   "id": "f3a21a78",
   "metadata": {},
   "outputs": [
    {
     "name": "stdout",
     "output_type": "stream",
     "text": [
      "test\n"
     ]
    }
   ],
   "source": [
    "print(\"test\")"
   ]
  },
  {
   "cell_type": "code",
   "execution_count": 9,
   "id": "dea79710",
   "metadata": {},
   "outputs": [
    {
     "ename": "TypeError",
     "evalue": "API.__init__() got an unexpected keyword argument 'wait_on_rate_limit_notify'",
     "output_type": "error",
     "traceback": [
      "\u001b[1;31m---------------------------------------------------------------------------\u001b[0m",
      "\u001b[1;31mTypeError\u001b[0m                                 Traceback (most recent call last)",
      "Input \u001b[1;32mIn [9]\u001b[0m, in \u001b[0;36m<cell line: 28>\u001b[1;34m()\u001b[0m\n\u001b[0;32m     26\u001b[0m             \u001b[38;5;28mprint\u001b[39m(\u001b[38;5;124m\"\u001b[39m\u001b[38;5;124mCoordinates\u001b[39m\u001b[38;5;124m\"\u001b[39m, tweet\u001b[38;5;241m.\u001b[39mlocation)\n\u001b[0;32m     27\u001b[0m     \u001b[38;5;28mprint\u001b[39m(count)\n\u001b[1;32m---> 28\u001b[0m \u001b[43mget_twitter_location\u001b[49m\u001b[43m(\u001b[49m\u001b[38;5;124;43m\"\u001b[39;49m\u001b[38;5;124;43m#Everton\u001b[39;49m\u001b[38;5;124;43m\"\u001b[39;49m\u001b[43m)\u001b[49m\n",
      "Input \u001b[1;32mIn [9]\u001b[0m, in \u001b[0;36mget_twitter_location\u001b[1;34m(search)\u001b[0m\n\u001b[0;32m     17\u001b[0m \u001b[38;5;28;01mdef\u001b[39;00m \u001b[38;5;21mget_twitter_location\u001b[39m(search):\n\u001b[1;32m---> 18\u001b[0m     api \u001b[38;5;241m=\u001b[39m \u001b[43mget_twitter_api\u001b[49m\u001b[43m(\u001b[49m\u001b[43m)\u001b[49m\n\u001b[0;32m     19\u001b[0m     count \u001b[38;5;241m=\u001b[39m \u001b[38;5;241m0\u001b[39m\n\u001b[0;32m     20\u001b[0m     \u001b[38;5;28;01mfor\u001b[39;00m tweet \u001b[38;5;129;01min\u001b[39;00m tweepy\u001b[38;5;241m.\u001b[39mCursor(api\u001b[38;5;241m.\u001b[39msearch, q\u001b[38;5;241m=\u001b[39msearch)\u001b[38;5;241m.\u001b[39mitems(\u001b[38;5;241m500\u001b[39m):\n",
      "Input \u001b[1;32mIn [9]\u001b[0m, in \u001b[0;36mget_twitter_api\u001b[1;34m()\u001b[0m\n\u001b[0;32m     11\u001b[0m \u001b[38;5;66;03m# authentication of access token and secret\u001b[39;00m\n\u001b[0;32m     12\u001b[0m auth\u001b[38;5;241m.\u001b[39mset_access_token(access_token, access_token_secret)\n\u001b[1;32m---> 13\u001b[0m api \u001b[38;5;241m=\u001b[39m \u001b[43mtweepy\u001b[49m\u001b[38;5;241;43m.\u001b[39;49m\u001b[43mAPI\u001b[49m\u001b[43m(\u001b[49m\u001b[43mauth\u001b[49m\u001b[43m,\u001b[49m\u001b[43m \u001b[49m\u001b[43mwait_on_rate_limit\u001b[49m\u001b[38;5;241;43m=\u001b[39;49m\u001b[38;5;28;43;01mTrue\u001b[39;49;00m\u001b[43m,\u001b[49m\u001b[43m \u001b[49m\u001b[43mwait_on_rate_limit_notify\u001b[49m\u001b[38;5;241;43m=\u001b[39;49m\u001b[38;5;28;43;01mTrue\u001b[39;49;00m\u001b[43m)\u001b[49m\n\u001b[0;32m     15\u001b[0m \u001b[38;5;28;01mreturn\u001b[39;00m api\n",
      "\u001b[1;31mTypeError\u001b[0m: API.__init__() got an unexpected keyword argument 'wait_on_rate_limit_notify'"
     ]
    }
   ],
   "source": [
    "def get_twitter_api():\n",
    "    # personal details\n",
    "    consumer_key = config.api_key\n",
    "    consumer_secret = config.api_secret\n",
    "    access_token = config.access_token\n",
    "    access_token_secret = config.access_secret\n",
    "    \n",
    "    # authentication of consumer key and secret\n",
    "    auth = tweepy.OAuthHandler(consumer_key, consumer_secret)\n",
    "    \n",
    "    # authentication of access token and secret\n",
    "    auth.set_access_token(access_token, access_token_secret)\n",
    "    api = tweepy.API(auth, wait_on_rate_limit=True, wait_on_rate_limit_notify=True)\n",
    "    \n",
    "    return api\n",
    "\n",
    "def get_twitter_location(search):\n",
    "    api = get_twitter_api()\n",
    "    count = 0\n",
    "    for tweet in tweepy.Cursor(api.search, q=search).items(500):\n",
    "        if hasattr(tweet, 'coordinates') and tweet.coordinates is not None:\n",
    "            count += 1\n",
    "            print(\"Coordinates\", tweet.coordinates)\n",
    "        if hasattr(tweet, 'location') and tweet.location is not None:\n",
    "            count += 1\n",
    "            print(\"Coordinates\", tweet.location)\n",
    "    print(count)\n",
    "get_twitter_location(\"#Everton\")"
   ]
  },
  {
   "cell_type": "code",
   "execution_count": 10,
   "id": "9e3290f1",
   "metadata": {},
   "outputs": [],
   "source": [
    "def get_tweets(search):\n",
    "    api = get_twitter_api()\n",
    "    location_data = []\n",
    "    for tweet in tweepy.Cursor(api.search, q=search).items(500):\n",
    "        if hasattr(tweet, 'user') and hasattr(tweet.user, 'screen_name') and hasattr(tweet.user, 'location'):\n",
    "            if tweet.user.location:\n",
    "                location_data.append((tweet.user.screen_name, tweet.user.location))\n",
    "    return location_data"
   ]
  },
  {
   "cell_type": "code",
   "execution_count": null,
   "id": "3207cf90",
   "metadata": {},
   "outputs": [],
   "source": []
  }
 ],
 "metadata": {
  "kernelspec": {
   "display_name": "Python 3 (ipykernel)",
   "language": "python",
   "name": "python3"
  },
  "language_info": {
   "codemirror_mode": {
    "name": "ipython",
    "version": 3
   },
   "file_extension": ".py",
   "mimetype": "text/x-python",
   "name": "python",
   "nbconvert_exporter": "python",
   "pygments_lexer": "ipython3",
   "version": "3.10.4"
  }
 },
 "nbformat": 4,
 "nbformat_minor": 5
}
