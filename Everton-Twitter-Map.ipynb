{
 "cells": [
  {
   "cell_type": "code",
   "execution_count": 1,
   "id": "ddb9e52e",
   "metadata": {},
   "outputs": [
    {
     "data": {
      "text/plain": [
       "True"
      ]
     },
     "execution_count": 1,
     "metadata": {},
     "output_type": "execute_result"
    }
   ],
   "source": [
    "#Load necessary packages\n",
    "import tweepy\n",
    "import folium\n",
    "import geopy\n",
    "import os\n",
    "from geopy.exc import GeocoderTimedOut\n",
    "from geopy.geocoders import Nominatim\n",
    "from geopy.extra.rate_limiter import RateLimiter\n",
    "import pandas as pd\n",
    "import numpy as np\n",
    "\n",
    "from dotenv import load_dotenv\n",
    "load_dotenv()"
   ]
  },
  {
   "cell_type": "code",
   "execution_count": 2,
   "id": "1adf5463",
   "metadata": {},
   "outputs": [],
   "source": [
    "#set authentication variables\n",
    "access_token_eve = os.environ.get('access_token')\n",
    "access_secret_eve = os.environ.get('access_secret')\n",
    "consumer_key_eve = os.environ.get('api_key')\n",
    "consumer_secret_eve = os.environ.get('api_secret')"
   ]
  },
  {
   "cell_type": "code",
   "execution_count": null,
   "id": "2ecd9a41",
   "metadata": {},
   "outputs": [],
   "source": []
  },
  {
   "cell_type": "code",
   "execution_count": 3,
   "id": "c1fa1ff0",
   "metadata": {},
   "outputs": [],
   "source": [
    "#Set inital data frame to store tweets for given time frame\n",
    "#Pull tweet date/time\n"
   ]
  },
  {
   "cell_type": "code",
   "execution_count": 4,
   "id": "2d7d4c27",
   "metadata": {},
   "outputs": [],
   "source": [
    "#load the Twitter API, create def for use\n",
    "def get_twitter_api():\n",
    "    # personal details\n",
    "    consumer_key = consumer_key_eve\n",
    "    consumer_secret = consumer_secret_eve\n",
    "    access_token = access_token_eve\n",
    "    access_token_secret = access_secret_eve\n",
    "    \n",
    "    # authentication of consumer key and secret\n",
    "    auth = tweepy.OAuthHandler(consumer_key, consumer_secret)\n",
    "    \n",
    "    # authentication of access token and secret\n",
    "    auth.set_access_token(access_token, access_token_secret)\n",
    "    api = tweepy.API(auth, wait_on_rate_limit=True)\n",
    "    \n",
    "    return api"
   ]
  },
  {
   "cell_type": "code",
   "execution_count": 17,
   "id": "9012b8d7",
   "metadata": {},
   "outputs": [],
   "source": [
    "#set search for location of the Twitter user\n",
    "#incorporate Twitter's own Lon/Lat data into the equation:\n",
    "#https://developer.twitter.com/en/docs/tutorials/filtering-tweets-by-location\n",
    "\n",
    "def get_tweets(search):\n",
    "    api = get_twitter_api()\n",
    "    location_data = []\n",
    "    for tweet in tweepy.Cursor(api.search_tweets, q=search).items(15):\n",
    "        if hasattr(tweet, 'user') and hasattr(tweet.user, 'screen_name') and hasattr(tweet.user, 'location') and hasattr(tweet, 'created_at') and hasattr(tweet, 'id'):\n",
    "            if tweet.user.location:\n",
    "                location_data.append((tweet.id, tweet.user.screen_name, tweet.user.location, str(tweet.created_at)))\n",
    "    return location_data"
   ]
  },
  {
   "cell_type": "code",
   "execution_count": 18,
   "id": "84f12d74",
   "metadata": {},
   "outputs": [
    {
     "name": "stdout",
     "output_type": "stream",
     "text": [
      "[(1547926057348517889, 'RossAftbl', 'Glasgow/St Albans', '2022-07-15 12:48:25+00:00'), (1547925446796496896, 'fan_banter', 'United Kingdom', '2022-07-15 12:46:00+00:00'), (1547925444560764928, 'matola_olexandr', 'Odessa, Ukraine', '2022-07-15 12:45:59+00:00'), (1547924528625434626, 'StavrateCom', 'Europe', '2022-07-15 12:42:21+00:00'), (1547922996949504003, 'GEEZERBOY1977', 'England, United Kingdom', '2022-07-15 12:36:16+00:00'), (1547919631796473858, 'Fussballeck', 'Deutschland', '2022-07-15 12:22:53+00:00'), (1547913168784986114, 'SimonCBondar', 'Seacombe, England', '2022-07-15 11:57:12+00:00')]\n"
     ]
    }
   ],
   "source": [
    "#pull the tweets and store in data frame \n",
    "#data should include -Twitter screen name; location, created date, Tweet ID\n",
    "search_terms=\"#Everton\"\n",
    "tweet_batch = get_tweets(search_terms)\n",
    "print(tweet_batch)"
   ]
  },
  {
   "cell_type": "code",
   "execution_count": 19,
   "id": "ef16ff3c",
   "metadata": {},
   "outputs": [
    {
     "name": "stdout",
     "output_type": "stream",
     "text": [
      "[['1547926057348517889' 'RossAftbl' 'Glasgow/St Albans'\n",
      "  '2022-07-15 12:48:25+00:00']\n",
      " ['1547925446796496896' 'fan_banter' 'United Kingdom'\n",
      "  '2022-07-15 12:46:00+00:00']\n",
      " ['1547925444560764928' 'matola_olexandr' 'Odessa, Ukraine'\n",
      "  '2022-07-15 12:45:59+00:00']\n",
      " ['1547924528625434626' 'StavrateCom' 'Europe'\n",
      "  '2022-07-15 12:42:21+00:00']\n",
      " ['1547922996949504003' 'GEEZERBOY1977' 'England, United Kingdom'\n",
      "  '2022-07-15 12:36:16+00:00']\n",
      " ['1547919631796473858' 'Fussballeck' 'Deutschland'\n",
      "  '2022-07-15 12:22:53+00:00']\n",
      " ['1547913168784986114' 'SimonCBondar' 'Seacombe, England'\n",
      "  '2022-07-15 11:57:12+00:00']]\n"
     ]
    }
   ],
   "source": [
    "#convert array to NumPy array\n",
    "tweets=np.array(tweet_batch)\n",
    "print(tweets)"
   ]
  },
  {
   "cell_type": "code",
   "execution_count": 20,
   "id": "6c0911be",
   "metadata": {},
   "outputs": [
    {
     "name": "stdout",
     "output_type": "stream",
     "text": [
      "                    ID             Name                 Location  \\\n",
      "0  1547926057348517889        RossAftbl        Glasgow/St Albans   \n",
      "1  1547925446796496896       fan_banter           United Kingdom   \n",
      "2  1547925444560764928  matola_olexandr          Odessa, Ukraine   \n",
      "3  1547924528625434626      StavrateCom                   Europe   \n",
      "4  1547922996949504003    GEEZERBOY1977  England, United Kingdom   \n",
      "\n",
      "                   Date-Time  \n",
      "0  2022-07-15 12:48:25+00:00  \n",
      "1  2022-07-15 12:46:00+00:00  \n",
      "2  2022-07-15 12:45:59+00:00  \n",
      "3  2022-07-15 12:42:21+00:00  \n",
      "4  2022-07-15 12:36:16+00:00  \n"
     ]
    }
   ],
   "source": [
    "#convert to dataframe\n",
    "df = pd.DataFrame(tweets, columns=[\"ID\", \"Name\", \"Location\", \"Date-Time\"])\n",
    "print(df.head())"
   ]
  },
  {
   "cell_type": "code",
   "execution_count": 35,
   "id": "a6385347",
   "metadata": {},
   "outputs": [],
   "source": [
    "def addLatLon(data):\n",
    "    #define the geolocator service\n",
    "    geo_locator = Nominatim(user_agent=\"EvertonTweeters\")\n",
    "    \n",
    "    #define the geocoder, with a rate limiter so we don't break Nominatum\n",
    "    geocode = RateLimiter(geo_locator.geocode, min_delay_seconds=2)\n",
    "    \n",
    "    for (Location) in data:\n",
    "        #geocode the location, then add lat/lon to dataframe; if not a valid location, put \"NaN\"\n",
    "        data[\"Location\"] = data[\"add\"].apply(geocode)\n",
    "        data['Lat'] = data['Location'].apply(lambda x: x.latitude if x else None)\n",
    "        data[\"Lon\"] = data['Location'].apply(lambda x: x.longitude if x else None)\n",
    "    \n",
    "    return data"
   ]
  },
  {
   "cell_type": "code",
   "execution_count": 36,
   "id": "815cdd23",
   "metadata": {},
   "outputs": [
    {
     "name": "stderr",
     "output_type": "stream",
     "text": [
      "RateLimiter caught an error, retrying (0/2 tries). Called with (*('Deutschland',), **{}).\n",
      "Traceback (most recent call last):\n",
      "  File \"C:\\Users\\Home\\anaconda3\\envs\\geospatial\\lib\\site-packages\\urllib3\\connection.py\", line 174, in _new_conn\n",
      "    conn = connection.create_connection(\n",
      "  File \"C:\\Users\\Home\\anaconda3\\envs\\geospatial\\lib\\site-packages\\urllib3\\util\\connection.py\", line 95, in create_connection\n",
      "    raise err\n",
      "  File \"C:\\Users\\Home\\anaconda3\\envs\\geospatial\\lib\\site-packages\\urllib3\\util\\connection.py\", line 85, in create_connection\n",
      "    sock.connect(sa)\n",
      "TimeoutError: timed out\n",
      "\n",
      "During handling of the above exception, another exception occurred:\n",
      "\n",
      "Traceback (most recent call last):\n",
      "  File \"C:\\Users\\Home\\anaconda3\\envs\\geospatial\\lib\\site-packages\\urllib3\\connectionpool.py\", line 703, in urlopen\n",
      "    httplib_response = self._make_request(\n",
      "  File \"C:\\Users\\Home\\anaconda3\\envs\\geospatial\\lib\\site-packages\\urllib3\\connectionpool.py\", line 386, in _make_request\n",
      "    self._validate_conn(conn)\n",
      "  File \"C:\\Users\\Home\\anaconda3\\envs\\geospatial\\lib\\site-packages\\urllib3\\connectionpool.py\", line 1040, in _validate_conn\n",
      "    conn.connect()\n",
      "  File \"C:\\Users\\Home\\anaconda3\\envs\\geospatial\\lib\\site-packages\\urllib3\\connection.py\", line 358, in connect\n",
      "    self.sock = conn = self._new_conn()\n",
      "  File \"C:\\Users\\Home\\anaconda3\\envs\\geospatial\\lib\\site-packages\\urllib3\\connection.py\", line 179, in _new_conn\n",
      "    raise ConnectTimeoutError(\n",
      "urllib3.exceptions.ConnectTimeoutError: (<urllib3.connection.HTTPSConnection object at 0x0000018DD17D5930>, 'Connection to nominatim.openstreetmap.org timed out. (connect timeout=1)')\n",
      "\n",
      "During handling of the above exception, another exception occurred:\n",
      "\n",
      "Traceback (most recent call last):\n",
      "  File \"C:\\Users\\Home\\anaconda3\\envs\\geospatial\\lib\\site-packages\\requests\\adapters.py\", line 489, in send\n",
      "    resp = conn.urlopen(\n",
      "  File \"C:\\Users\\Home\\anaconda3\\envs\\geospatial\\lib\\site-packages\\urllib3\\connectionpool.py\", line 813, in urlopen\n",
      "    return self.urlopen(\n",
      "  File \"C:\\Users\\Home\\anaconda3\\envs\\geospatial\\lib\\site-packages\\urllib3\\connectionpool.py\", line 813, in urlopen\n",
      "    return self.urlopen(\n",
      "  File \"C:\\Users\\Home\\anaconda3\\envs\\geospatial\\lib\\site-packages\\urllib3\\connectionpool.py\", line 785, in urlopen\n",
      "    retries = retries.increment(\n",
      "  File \"C:\\Users\\Home\\anaconda3\\envs\\geospatial\\lib\\site-packages\\urllib3\\util\\retry.py\", line 592, in increment\n",
      "    raise MaxRetryError(_pool, url, error or ResponseError(cause))\n",
      "urllib3.exceptions.MaxRetryError: HTTPSConnectionPool(host='nominatim.openstreetmap.org', port=443): Max retries exceeded with url: /search?q=Deutschland&format=json&limit=1 (Caused by ConnectTimeoutError(<urllib3.connection.HTTPSConnection object at 0x0000018DD17D5930>, 'Connection to nominatim.openstreetmap.org timed out. (connect timeout=1)'))\n",
      "\n",
      "During handling of the above exception, another exception occurred:\n",
      "\n",
      "Traceback (most recent call last):\n",
      "  File \"C:\\Users\\Home\\anaconda3\\envs\\geospatial\\lib\\site-packages\\geopy\\adapters.py\", line 448, in _request\n",
      "    resp = self.session.get(url, timeout=timeout, headers=headers)\n",
      "  File \"C:\\Users\\Home\\anaconda3\\envs\\geospatial\\lib\\site-packages\\requests\\sessions.py\", line 600, in get\n",
      "    return self.request(\"GET\", url, **kwargs)\n",
      "  File \"C:\\Users\\Home\\anaconda3\\envs\\geospatial\\lib\\site-packages\\requests\\sessions.py\", line 587, in request\n",
      "    resp = self.send(prep, **send_kwargs)\n",
      "  File \"C:\\Users\\Home\\anaconda3\\envs\\geospatial\\lib\\site-packages\\requests\\sessions.py\", line 701, in send\n",
      "    r = adapter.send(request, **kwargs)\n",
      "  File \"C:\\Users\\Home\\anaconda3\\envs\\geospatial\\lib\\site-packages\\requests\\adapters.py\", line 553, in send\n",
      "    raise ConnectTimeout(e, request=request)\n",
      "requests.exceptions.ConnectTimeout: HTTPSConnectionPool(host='nominatim.openstreetmap.org', port=443): Max retries exceeded with url: /search?q=Deutschland&format=json&limit=1 (Caused by ConnectTimeoutError(<urllib3.connection.HTTPSConnection object at 0x0000018DD17D5930>, 'Connection to nominatim.openstreetmap.org timed out. (connect timeout=1)'))\n",
      "\n",
      "During handling of the above exception, another exception occurred:\n",
      "\n",
      "Traceback (most recent call last):\n",
      "  File \"C:\\Users\\Home\\anaconda3\\envs\\geospatial\\lib\\site-packages\\geopy\\extra\\rate_limiter.py\", line 136, in _retries_gen\n",
      "    yield i  # Run the function.\n",
      "  File \"C:\\Users\\Home\\anaconda3\\envs\\geospatial\\lib\\site-packages\\geopy\\extra\\rate_limiter.py\", line 274, in __call__\n",
      "    res = self.func(*args, **kwargs)\n",
      "  File \"C:\\Users\\Home\\anaconda3\\envs\\geospatial\\lib\\site-packages\\geopy\\geocoders\\nominatim.py\", line 297, in geocode\n",
      "    return self._call_geocoder(url, callback, timeout=timeout)\n",
      "  File \"C:\\Users\\Home\\anaconda3\\envs\\geospatial\\lib\\site-packages\\geopy\\geocoders\\base.py\", line 368, in _call_geocoder\n",
      "    result = self.adapter.get_json(url, timeout=timeout, headers=req_headers)\n",
      "  File \"C:\\Users\\Home\\anaconda3\\envs\\geospatial\\lib\\site-packages\\geopy\\adapters.py\", line 438, in get_json\n",
      "    resp = self._request(url, timeout=timeout, headers=headers)\n",
      "  File \"C:\\Users\\Home\\anaconda3\\envs\\geospatial\\lib\\site-packages\\geopy\\adapters.py\", line 460, in _request\n",
      "    raise GeocoderUnavailable(message)\n",
      "geopy.exc.GeocoderUnavailable: HTTPSConnectionPool(host='nominatim.openstreetmap.org', port=443): Max retries exceeded with url: /search?q=Deutschland&format=json&limit=1 (Caused by ConnectTimeoutError(<urllib3.connection.HTTPSConnection object at 0x0000018DD17D5930>, 'Connection to nominatim.openstreetmap.org timed out. (connect timeout=1)'))\n",
      "RateLimiter caught an error, retrying (0/2 tries). Called with (*('Europe',), **{}).\n",
      "Traceback (most recent call last):\n",
      "  File \"C:\\Users\\Home\\anaconda3\\envs\\geospatial\\lib\\site-packages\\urllib3\\connection.py\", line 174, in _new_conn\n",
      "    conn = connection.create_connection(\n",
      "  File \"C:\\Users\\Home\\anaconda3\\envs\\geospatial\\lib\\site-packages\\urllib3\\util\\connection.py\", line 95, in create_connection\n",
      "    raise err\n",
      "  File \"C:\\Users\\Home\\anaconda3\\envs\\geospatial\\lib\\site-packages\\urllib3\\util\\connection.py\", line 85, in create_connection\n",
      "    sock.connect(sa)\n",
      "TimeoutError: timed out\n",
      "\n",
      "During handling of the above exception, another exception occurred:\n",
      "\n",
      "Traceback (most recent call last):\n",
      "  File \"C:\\Users\\Home\\anaconda3\\envs\\geospatial\\lib\\site-packages\\urllib3\\connectionpool.py\", line 703, in urlopen\n",
      "    httplib_response = self._make_request(\n",
      "  File \"C:\\Users\\Home\\anaconda3\\envs\\geospatial\\lib\\site-packages\\urllib3\\connectionpool.py\", line 386, in _make_request\n",
      "    self._validate_conn(conn)\n",
      "  File \"C:\\Users\\Home\\anaconda3\\envs\\geospatial\\lib\\site-packages\\urllib3\\connectionpool.py\", line 1040, in _validate_conn\n",
      "    conn.connect()\n",
      "  File \"C:\\Users\\Home\\anaconda3\\envs\\geospatial\\lib\\site-packages\\urllib3\\connection.py\", line 358, in connect\n",
      "    self.sock = conn = self._new_conn()\n",
      "  File \"C:\\Users\\Home\\anaconda3\\envs\\geospatial\\lib\\site-packages\\urllib3\\connection.py\", line 179, in _new_conn\n",
      "    raise ConnectTimeoutError(\n",
      "urllib3.exceptions.ConnectTimeoutError: (<urllib3.connection.HTTPSConnection object at 0x0000018DD15DDE70>, 'Connection to nominatim.openstreetmap.org timed out. (connect timeout=1)')\n",
      "\n",
      "During handling of the above exception, another exception occurred:\n",
      "\n",
      "Traceback (most recent call last):\n",
      "  File \"C:\\Users\\Home\\anaconda3\\envs\\geospatial\\lib\\site-packages\\requests\\adapters.py\", line 489, in send\n",
      "    resp = conn.urlopen(\n",
      "  File \"C:\\Users\\Home\\anaconda3\\envs\\geospatial\\lib\\site-packages\\urllib3\\connectionpool.py\", line 813, in urlopen\n",
      "    return self.urlopen(\n",
      "  File \"C:\\Users\\Home\\anaconda3\\envs\\geospatial\\lib\\site-packages\\urllib3\\connectionpool.py\", line 813, in urlopen\n",
      "    return self.urlopen(\n",
      "  File \"C:\\Users\\Home\\anaconda3\\envs\\geospatial\\lib\\site-packages\\urllib3\\connectionpool.py\", line 785, in urlopen\n",
      "    retries = retries.increment(\n",
      "  File \"C:\\Users\\Home\\anaconda3\\envs\\geospatial\\lib\\site-packages\\urllib3\\util\\retry.py\", line 592, in increment\n",
      "    raise MaxRetryError(_pool, url, error or ResponseError(cause))\n",
      "urllib3.exceptions.MaxRetryError: HTTPSConnectionPool(host='nominatim.openstreetmap.org', port=443): Max retries exceeded with url: /search?q=Europe&format=json&limit=1 (Caused by ConnectTimeoutError(<urllib3.connection.HTTPSConnection object at 0x0000018DD15DDE70>, 'Connection to nominatim.openstreetmap.org timed out. (connect timeout=1)'))\n",
      "\n",
      "During handling of the above exception, another exception occurred:\n",
      "\n",
      "Traceback (most recent call last):\n",
      "  File \"C:\\Users\\Home\\anaconda3\\envs\\geospatial\\lib\\site-packages\\geopy\\adapters.py\", line 448, in _request\n",
      "    resp = self.session.get(url, timeout=timeout, headers=headers)\n",
      "  File \"C:\\Users\\Home\\anaconda3\\envs\\geospatial\\lib\\site-packages\\requests\\sessions.py\", line 600, in get\n",
      "    return self.request(\"GET\", url, **kwargs)\n",
      "  File \"C:\\Users\\Home\\anaconda3\\envs\\geospatial\\lib\\site-packages\\requests\\sessions.py\", line 587, in request\n",
      "    resp = self.send(prep, **send_kwargs)\n",
      "  File \"C:\\Users\\Home\\anaconda3\\envs\\geospatial\\lib\\site-packages\\requests\\sessions.py\", line 701, in send\n",
      "    r = adapter.send(request, **kwargs)\n",
      "  File \"C:\\Users\\Home\\anaconda3\\envs\\geospatial\\lib\\site-packages\\requests\\adapters.py\", line 553, in send\n",
      "    raise ConnectTimeout(e, request=request)\n",
      "requests.exceptions.ConnectTimeout: HTTPSConnectionPool(host='nominatim.openstreetmap.org', port=443): Max retries exceeded with url: /search?q=Europe&format=json&limit=1 (Caused by ConnectTimeoutError(<urllib3.connection.HTTPSConnection object at 0x0000018DD15DDE70>, 'Connection to nominatim.openstreetmap.org timed out. (connect timeout=1)'))\n",
      "\n",
      "During handling of the above exception, another exception occurred:\n",
      "\n",
      "Traceback (most recent call last):\n",
      "  File \"C:\\Users\\Home\\anaconda3\\envs\\geospatial\\lib\\site-packages\\geopy\\extra\\rate_limiter.py\", line 136, in _retries_gen\n",
      "    yield i  # Run the function.\n",
      "  File \"C:\\Users\\Home\\anaconda3\\envs\\geospatial\\lib\\site-packages\\geopy\\extra\\rate_limiter.py\", line 274, in __call__\n",
      "    res = self.func(*args, **kwargs)\n",
      "  File \"C:\\Users\\Home\\anaconda3\\envs\\geospatial\\lib\\site-packages\\geopy\\geocoders\\nominatim.py\", line 297, in geocode\n",
      "    return self._call_geocoder(url, callback, timeout=timeout)\n",
      "  File \"C:\\Users\\Home\\anaconda3\\envs\\geospatial\\lib\\site-packages\\geopy\\geocoders\\base.py\", line 368, in _call_geocoder\n",
      "    result = self.adapter.get_json(url, timeout=timeout, headers=req_headers)\n",
      "  File \"C:\\Users\\Home\\anaconda3\\envs\\geospatial\\lib\\site-packages\\geopy\\adapters.py\", line 438, in get_json\n",
      "    resp = self._request(url, timeout=timeout, headers=headers)\n",
      "  File \"C:\\Users\\Home\\anaconda3\\envs\\geospatial\\lib\\site-packages\\geopy\\adapters.py\", line 460, in _request\n",
      "    raise GeocoderUnavailable(message)\n",
      "geopy.exc.GeocoderUnavailable: HTTPSConnectionPool(host='nominatim.openstreetmap.org', port=443): Max retries exceeded with url: /search?q=Europe&format=json&limit=1 (Caused by ConnectTimeoutError(<urllib3.connection.HTTPSConnection object at 0x0000018DD15DDE70>, 'Connection to nominatim.openstreetmap.org timed out. (connect timeout=1)'))\n"
     ]
    },
    {
     "data": {
      "text/html": [
       "<div>\n",
       "<style scoped>\n",
       "    .dataframe tbody tr th:only-of-type {\n",
       "        vertical-align: middle;\n",
       "    }\n",
       "\n",
       "    .dataframe tbody tr th {\n",
       "        vertical-align: top;\n",
       "    }\n",
       "\n",
       "    .dataframe thead th {\n",
       "        text-align: right;\n",
       "    }\n",
       "</style>\n",
       "<table border=\"1\" class=\"dataframe\">\n",
       "  <thead>\n",
       "    <tr style=\"text-align: right;\">\n",
       "      <th></th>\n",
       "      <th>add</th>\n",
       "      <th>location</th>\n",
       "      <th>Lat</th>\n",
       "      <th>Lon</th>\n",
       "      <th>Location</th>\n",
       "    </tr>\n",
       "  </thead>\n",
       "  <tbody>\n",
       "    <tr>\n",
       "      <th>0</th>\n",
       "      <td>Glasgow/St Albans</td>\n",
       "      <td>None</td>\n",
       "      <td>NaN</td>\n",
       "      <td>NaN</td>\n",
       "      <td>None</td>\n",
       "    </tr>\n",
       "    <tr>\n",
       "      <th>1</th>\n",
       "      <td>United Kingdom</td>\n",
       "      <td>(United Kingdom, (54.7023545, -3.2765753))</td>\n",
       "      <td>54.702354</td>\n",
       "      <td>-3.276575</td>\n",
       "      <td>(United Kingdom, (54.7023545, -3.2765753))</td>\n",
       "    </tr>\n",
       "    <tr>\n",
       "      <th>2</th>\n",
       "      <td>Odessa, Ukraine</td>\n",
       "      <td>(Одеса, Одеська міська громада, Одеський район...</td>\n",
       "      <td>46.484302</td>\n",
       "      <td>30.732288</td>\n",
       "      <td>(Одеса, Одеська міська громада, Одеський район...</td>\n",
       "    </tr>\n",
       "    <tr>\n",
       "      <th>3</th>\n",
       "      <td>Europe</td>\n",
       "      <td>(Ōu, (51.0, 10.0))</td>\n",
       "      <td>51.000000</td>\n",
       "      <td>10.000000</td>\n",
       "      <td>(Ōu, (51.0, 10.0))</td>\n",
       "    </tr>\n",
       "    <tr>\n",
       "      <th>4</th>\n",
       "      <td>England, United Kingdom</td>\n",
       "      <td>(England, United Kingdom, (52.5310214, -1.2649...</td>\n",
       "      <td>52.531021</td>\n",
       "      <td>-1.264906</td>\n",
       "      <td>(England, United Kingdom, (52.5310214, -1.2649...</td>\n",
       "    </tr>\n",
       "    <tr>\n",
       "      <th>5</th>\n",
       "      <td>Deutschland</td>\n",
       "      <td>(Deutschland, (51.0834196, 10.4234469))</td>\n",
       "      <td>51.083420</td>\n",
       "      <td>10.423447</td>\n",
       "      <td>(Deutschland, (51.0834196, 10.4234469))</td>\n",
       "    </tr>\n",
       "    <tr>\n",
       "      <th>6</th>\n",
       "      <td>Seacombe, England</td>\n",
       "      <td>(Seacombe, Birkenhead, Wallasey, Wirral, Liver...</td>\n",
       "      <td>53.408324</td>\n",
       "      <td>-3.022905</td>\n",
       "      <td>(Seacombe, Birkenhead, Wallasey, Wirral, Liver...</td>\n",
       "    </tr>\n",
       "  </tbody>\n",
       "</table>\n",
       "</div>"
      ],
      "text/plain": [
       "                       add                                           location  \\\n",
       "0        Glasgow/St Albans                                               None   \n",
       "1           United Kingdom         (United Kingdom, (54.7023545, -3.2765753))   \n",
       "2          Odessa, Ukraine  (Одеса, Одеська міська громада, Одеський район...   \n",
       "3                   Europe                                 (Ōu, (51.0, 10.0))   \n",
       "4  England, United Kingdom  (England, United Kingdom, (52.5310214, -1.2649...   \n",
       "5              Deutschland            (Deutschland, (51.0834196, 10.4234469))   \n",
       "6        Seacombe, England  (Seacombe, Birkenhead, Wallasey, Wirral, Liver...   \n",
       "\n",
       "         Lat        Lon                                           Location  \n",
       "0        NaN        NaN                                               None  \n",
       "1  54.702354  -3.276575         (United Kingdom, (54.7023545, -3.2765753))  \n",
       "2  46.484302  30.732288  (Одеса, Одеська міська громада, Одеський район...  \n",
       "3  51.000000  10.000000                                 (Ōu, (51.0, 10.0))  \n",
       "4  52.531021  -1.264906  (England, United Kingdom, (52.5310214, -1.2649...  \n",
       "5  51.083420  10.423447            (Deutschland, (51.0834196, 10.4234469))  \n",
       "6  53.408324  -3.022905  (Seacombe, Birkenhead, Wallasey, Wirral, Liver...  "
      ]
     },
     "execution_count": 36,
     "metadata": {},
     "output_type": "execute_result"
    }
   ],
   "source": [
    "addLatLon(df)"
   ]
  },
  {
   "cell_type": "code",
   "execution_count": null,
   "id": "1a7dc853",
   "metadata": {},
   "outputs": [],
   "source": [
    "def put_markers(map, data):\n",
    "    for (ID, name, location, time) in data:\n",
    "        if location:\n",
    "            try:\n",
    "                location = geo_locator.geocode(location)\n",
    "            except GeocoderTimedOut:\n",
    "                continue\n",
    "            if location:\n",
    "                folium.Marker([location.latitude, location.longitude], popup=name).add_to(map)\n",
    "\n",
    "if __name__ == \"__main__\":\n",
    "    map = folium.Map(location=[0, 0], zoom_start=2)\n",
    "    location_data = tweets\n",
    "    put_markers(map, location_data)\n",
    "    map.save(\"index.html\")"
   ]
  },
  {
   "cell_type": "code",
   "execution_count": 21,
   "id": "28743f80",
   "metadata": {},
   "outputs": [
    {
     "name": "stdout",
     "output_type": "stream",
     "text": [
      "Seacombe, Birkenhead, Wallasey, Wirral, Liverpool City Region, England, CH44 7DP, United Kingdom\n",
      "(53.4083242, -3.0229049)\n"
     ]
    }
   ],
   "source": [
    "loc = \"Seacombe, England\"\n",
    "\n",
    "geolocator = Nominatim(user_agent=\"Everton-Tweeters\")\n",
    "\n",
    "location = geolocator.geocode(loc)\n",
    "\n",
    "print(location.address)\n",
    "print((location.latitude, location.longitude))\n"
   ]
  },
  {
   "cell_type": "code",
   "execution_count": 23,
   "id": "fe93c120",
   "metadata": {},
   "outputs": [],
   "source": [
    "locat = ['Glasgow/St Albans', 'United Kingdom', 'Odessa, Ukraine','Europe', 'England, United Kingdom', 'Deutschland','Seacombe, England']\n",
    "\n",
    "df = pd.DataFrame({'add':locat})\n",
    "\n",
    "geolocator = Nominatim(user_agent=\"EvertonTweeters\")\n",
    "\n",
    "geocode = RateLimiter(geolocator.geocode, min_delay_seconds=1)\n",
    "\n",
    "df['location'] = df['add'].apply(geocode)\n",
    "df['Lat'] = df['location'].apply(lambda x: x.latitude if x else None)\n",
    "df['Lon'] = df['location'].apply(lambda x: x.longitude if x else None)"
   ]
  },
  {
   "cell_type": "code",
   "execution_count": 24,
   "id": "46d8fac4",
   "metadata": {},
   "outputs": [
    {
     "name": "stdout",
     "output_type": "stream",
     "text": [
      "                       add                                           location  \\\n",
      "0        Glasgow/St Albans                                               None   \n",
      "1           United Kingdom         (United Kingdom, (54.7023545, -3.2765753))   \n",
      "2          Odessa, Ukraine  (Одеса, Одеська міська громада, Одеський район...   \n",
      "3                   Europe                                 (Ōu, (51.0, 10.0))   \n",
      "4  England, United Kingdom  (England, United Kingdom, (52.5310214, -1.2649...   \n",
      "5              Deutschland            (Deutschland, (51.0834196, 10.4234469))   \n",
      "6        Seacombe, England  (Seacombe, Birkenhead, Wallasey, Wirral, Liver...   \n",
      "\n",
      "         Lat        Lon  \n",
      "0        NaN        NaN  \n",
      "1  54.702354  -3.276575  \n",
      "2  46.484302  30.732288  \n",
      "3  51.000000  10.000000  \n",
      "4  52.531021  -1.264906  \n",
      "5  51.083420  10.423447  \n",
      "6  53.408324  -3.022905  \n"
     ]
    }
   ],
   "source": [
    "print(df)"
   ]
  },
  {
   "cell_type": "code",
   "execution_count": null,
   "id": "ac3749fa",
   "metadata": {},
   "outputs": [],
   "source": []
  }
 ],
 "metadata": {
  "kernelspec": {
   "display_name": "Python 3 (ipykernel)",
   "language": "python",
   "name": "python3"
  },
  "language_info": {
   "codemirror_mode": {
    "name": "ipython",
    "version": 3
   },
   "file_extension": ".py",
   "mimetype": "text/x-python",
   "name": "python",
   "nbconvert_exporter": "python",
   "pygments_lexer": "ipython3",
   "version": "3.10.4"
  },
  "vscode": {
   "interpreter": {
    "hash": "bb33f6d328f18c07440802b8c66874c52744b86bff5cfe8eb1d71afeb55a2150"
   }
  }
 },
 "nbformat": 4,
 "nbformat_minor": 5
}
